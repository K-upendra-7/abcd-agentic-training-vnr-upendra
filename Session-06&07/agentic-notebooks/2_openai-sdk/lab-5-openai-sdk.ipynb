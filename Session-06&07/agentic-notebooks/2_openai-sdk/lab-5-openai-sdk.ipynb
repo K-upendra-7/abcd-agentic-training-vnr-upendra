{
 "cells": [
  {
   "cell_type": "markdown",
   "metadata": {},
   "source": [
    "## Lab 5\n",
    "\n",
    "And now! Our first look at OpenAI Agents SDK\n",
    "\n",
    "You won't believe how lightweight this is.."
   ]
  },
  {
   "cell_type": "markdown",
   "metadata": {},
   "source": [
    "<table style=\"margin: 0; text-align: left; width:100%\">\n",
    "    <tr>\n",
    "        <td>\n",
    "            <h2 style=\"color:#00bfff;\">The OpenAI Agents SDK Docs</h2>\n",
    "            <span style=\"color:#00bfff;\">The documentation on OpenAI Agents SDK is really clear and simple: <a href=\"https://openai.github.io/openai-agents-python/\">https://openai.github.io/openai-agents-python/</a> and it's well worth a look.\n",
    "            </span>\n",
    "        </td>\n",
    "    </tr>\n",
    "</table>"
   ]
  },
  {
   "cell_type": "code",
   "execution_count": null,
   "metadata": {},
   "outputs": [],
   "source": [
    "from dotenv import load_dotenv\n",
    "\n",
    "from agents import Agent, Runner\n",
    "\n",
    "import os\n",
    "\n",
    "from agents import set_tracing_export_api_key\n",
    "\n",
    "from agents.tracing import trace"
   ]
  },
  {
   "cell_type": "code",
   "execution_count": null,
   "metadata": {},
   "outputs": [],
   "source": [
    "load_dotenv(override=True)\n",
    "\n",
    "os.environ[\"OPENAI_TRACE\"] = \"1\"\n",
    "\n",
    "set_tracing_export_api_key(os.getenv(\"OPENAI_API_KEY\"))"
   ]
  },
  {
   "cell_type": "code",
   "execution_count": null,
   "metadata": {},
   "outputs": [],
   "source": [
    "\n",
    "# Make an agent with name, instructions, model\n",
    "# here instruction is system prompt\n",
    "# open SDK is able to work with many models - groq / gemini / openai\n",
    "\n",
    "agent = Agent(name=\"Jokester\", instructions=\"You are a good joke teller\", model=\"gpt-4o-mini\")"
   ]
  },
  {
   "cell_type": "code",
   "execution_count": null,
   "metadata": {},
   "outputs": [],
   "source": [
    "agent"
   ]
  },
  {
   "cell_type": "code",
   "execution_count": null,
   "metadata": {},
   "outputs": [],
   "source": [
    "# Run the joke with Runner.run(agent, prompt) then print final_output\n",
    "# Runner.run(agent, \"Tell a joke about Autonomous AI Agents\") will return a coroutine object\n",
    "\n",
    "with trace(workflow_name=\"Telling a joke part 2\",trace_id=\"something\") as span:\n",
    "    result = await Runner.run(agent, \"Tell a joke about Autonomous AI Agents\")\n",
    "    print(result.final_output)"
   ]
  },
  {
   "cell_type": "code",
   "execution_count": null,
   "metadata": {},
   "outputs": [],
   "source": [
    "from dotenv import load_dotenv\n",
    "from agents import Agent, Runner, trace\n",
    "\n",
    "load_dotenv(override=True)\n",
    "\n",
    "agent = Agent(\n",
    "    name=\"Jokester\",\n",
    "    instructions=\"You are a joke teller\",\n",
    "    model=\"gpt-4o-mini\",\n",
    ")\n",
    "\n",
    "# ✅ tracing via the agents framework (not the SDK)\n",
    "\n",
    "with trace(workflow_name=\"Telling a joke part 2\", trace_id=\"my-trace-001\") as span:\n",
    "    result = await Runner.run(agent, \"Tell a joke about Autonomous AI Agents\")\n",
    "    print(result.final_output)\n"
   ]
  },
  {
   "cell_type": "markdown",
   "metadata": {},
   "source": [
    "## Now go and look at the trace\n",
    "\n",
    "https://platform.openai.com/traces"
   ]
  }
 ],
 "metadata": {
  "kernelspec": {
   "display_name": ".venv",
   "language": "python",
   "name": "python3"
  },
  "language_info": {
   "codemirror_mode": {
    "name": "ipython",
    "version": 3
   },
   "file_extension": ".py",
   "mimetype": "text/x-python",
   "name": "python",
   "nbconvert_exporter": "python",
   "pygments_lexer": "ipython3",
   "version": "3.13.3"
  }
 },
 "nbformat": 4,
 "nbformat_minor": 2
}
