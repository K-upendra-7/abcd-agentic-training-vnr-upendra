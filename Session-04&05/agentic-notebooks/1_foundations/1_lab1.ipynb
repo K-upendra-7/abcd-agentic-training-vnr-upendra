{
 "cells": [
  {
   "cell_type": "markdown",
   "metadata": {},
   "source": [
    "# Agentic AI basics"
   ]
  },
  {
   "cell_type": "code",
   "execution_count": 49,
   "metadata": {},
   "outputs": [],
   "source": [
    "# First let's do an import. If you get an Import Error, double check that your Kernel is correct..\n",
    "\n",
    "from dotenv import load_dotenv"
   ]
  },
  {
   "cell_type": "code",
   "execution_count": 50,
   "metadata": {},
   "outputs": [
    {
     "data": {
      "text/plain": [
       "True"
      ]
     },
     "execution_count": 50,
     "metadata": {},
     "output_type": "execute_result"
    }
   ],
   "source": [
    "# Next it's time to load the API keys into environment variables\n",
    "# If this returns false, make sure env variable is set properly in .env\n",
    "\n",
    "load_dotenv(override=True)"
   ]
  },
  {
   "cell_type": "code",
   "execution_count": 51,
   "metadata": {},
   "outputs": [
    {
     "name": "stdout",
     "output_type": "stream",
     "text": [
      "OpenAI API Key exists and begins sk-proj-\n"
     ]
    }
   ],
   "source": [
    "# Check the key - if you're not using OpenAI, check whichever key you're using! Ollama doesn't need a key.\n",
    "\n",
    "import os\n",
    "openai_api_key = os.getenv('OPENAI_API_KEY')\n",
    "\n",
    "if openai_api_key:\n",
    "    print(f\"OpenAI API Key exists and begins {openai_api_key[:8]}\")\n",
    "else:\n",
    "    print(\"OpenAI API Key not set - please head to the troubleshooting guide in the setup folder\")\n",
    "    \n"
   ]
  },
  {
   "cell_type": "code",
   "execution_count": 52,
   "metadata": {},
   "outputs": [],
   "source": [
    "# And now - the all important import statement\n",
    "# If you get an import error - head over to troubleshooting in the Setup folder\n",
    "# Even for other LLM providers like Gemini, you still use this OpenAI import - see Guide 9 for why\n",
    "\n",
    "from openai import OpenAI"
   ]
  },
  {
   "cell_type": "code",
   "execution_count": 53,
   "metadata": {},
   "outputs": [],
   "source": [
    "# And now we'll create an instance of the OpenAI class\n",
    "# If you're not sure what it means to create an instance of a class - head over to the guides folder (guide 6)!\n",
    "# If you get a NameError - head over to the guides folder (guide 6)to learn about NameErrors - always instantly fixable\n",
    "# If you're not using OpenAI, you just need to slightly modify this - precise instructions are in the AI APIs guide (guide 9)\n",
    "# its basically openai client library for connecting to openai endpoints\n",
    "openai = OpenAI()"
   ]
  },
  {
   "cell_type": "code",
   "execution_count": 54,
   "metadata": {},
   "outputs": [],
   "source": [
    "# Create a list of messages in the familiar OpenAI format\n",
    "\n",
    "messages = [{\"role\": \"user\", \"content\": \"What is 2+2?\"}]"
   ]
  },
  {
   "cell_type": "code",
   "execution_count": 55,
   "metadata": {},
   "outputs": [
    {
     "name": "stdout",
     "output_type": "stream",
     "text": [
      "2 + 2 equals 4.\n"
     ]
    }
   ],
   "source": [
    "# And now call it! Any problems, head to the troubleshooting guide\n",
    "# This uses GPT 4.1 nano, the incredibly cheap model\n",
    "# The APIs guide (guide 9) has exact instructions for using even cheaper or free alternatives to OpenAI\n",
    "# If you get a NameError, head to the guides folder (guide 6) to learn about NameErrors - always instantly fixable\n",
    "\n",
    "response = openai.chat.completions.create(\n",
    "    model=\"gpt-4.1-nano\",\n",
    "    messages=messages\n",
    ")\n",
    "\n",
    "print(response.choices[0].message.content)\n"
   ]
  },
  {
   "cell_type": "code",
   "execution_count": 56,
   "metadata": {},
   "outputs": [],
   "source": [
    "# And now - let's ask for a question:\n",
    "\n",
    "question = \"Please propose a hard, challenging question to assess someone's IQ. Respond only with the question.\"\n",
    "messages = [{\"role\": \"user\", \"content\": question}]\n"
   ]
  },
  {
   "cell_type": "code",
   "execution_count": 57,
   "metadata": {},
   "outputs": [
    {
     "name": "stdout",
     "output_type": "stream",
     "text": [
      "If two trains start from the same point and travel in opposite directions, one at 60 miles per hour and the other at 40 miles per hour, and after how many hours will the sum of the distances they have traveled equal the distance a third train would cover traveling at 100 miles per hour in the same time?\n"
     ]
    }
   ],
   "source": [
    "# ask it - this uses GPT 4.1 mini, still cheap but more powerful than nano\n",
    "\n",
    "response = openai.chat.completions.create(\n",
    "    model=\"gpt-4.1-mini\",\n",
    "    messages=messages\n",
    ")\n",
    "\n",
    "question = response.choices[0].message.content\n",
    "\n",
    "print(question)\n"
   ]
  },
  {
   "cell_type": "code",
   "execution_count": 58,
   "metadata": {},
   "outputs": [],
   "source": [
    "# form a new messages list\n",
    "messages = [{\"role\": \"user\", \"content\": question}]\n"
   ]
  },
  {
   "cell_type": "code",
   "execution_count": 59,
   "metadata": {},
   "outputs": [
    {
     "name": "stdout",
     "output_type": "stream",
     "text": [
      "Let's analyze the problem step-by-step.\n",
      "\n",
      "**Given:**\n",
      "- Two trains start from the same point and travel in opposite directions.\n",
      "- Speed of first train = 60 miles/hour\n",
      "- Speed of second train = 40 miles/hour\n",
      "- A third train travels at 100 miles/hour.\n",
      "- We want to find the time \\( t \\) (in hours) when the sum of the distances traveled by the first two trains equals the distance traveled by the third train in the same time \\( t \\).\n",
      "\n",
      "---\n",
      "\n",
      "### Step 1: Express distances traveled by each train\n",
      "\n",
      "- Distance traveled by first train after time \\( t \\) hours:\n",
      "  \\[\n",
      "  d_1 = 60 \\times t\n",
      "  \\]\n",
      "\n",
      "- Distance traveled by second train after time \\( t \\) hours:\n",
      "  \\[\n",
      "  d_2 = 40 \\times t\n",
      "  \\]\n",
      "\n",
      "- Distance traveled by third train after time \\( t \\) hours:\n",
      "  \\[\n",
      "  d_3 = 100 \\times t\n",
      "  \\]\n",
      "\n",
      "---\n",
      "\n",
      "### Step 2: Set up the equation for the sum of distances\n",
      "\n",
      "We need:\n",
      "\\[\n",
      "d_1 + d_2 = d_3\n",
      "\\]\n",
      "\n",
      "Substitute the expressions:\n",
      "\\[\n",
      "60t + 40t = 100t\n",
      "\\]\n",
      "\n",
      "Simplify:\n",
      "\\[\n",
      "100t = 100t\n",
      "\\]\n",
      "\n",
      "---\n",
      "\n",
      "### Step 3: Analyze the equation\n",
      "\n",
      "The equation is true for **all** values of \\( t \\). This means:\n",
      "\n",
      "- **At any time \\( t \\), the sum of the distances traveled by the first two trains equals the distance traveled by the third train.**\n",
      "\n",
      "---\n",
      "\n",
      "### **Answer:**\n",
      "\n",
      "- The sum of the distances traveled by the first two trains **always equals** the distance traveled by the third train in the same time.\n",
      "- Therefore, the time \\( t \\) can be **any positive number**.\n",
      "\n",
      "---\n",
      "\n",
      "### **Summary:**\n",
      "\n",
      "\\[\n",
      "\\boxed{\n",
      "\\text{For all } t \\geq 0, \\quad (60t + 40t) = 100t\n",
      "}\n",
      "\\]\n",
      "\n",
      "There is no specific time to wait; the relation holds at all times.\n"
     ]
    }
   ],
   "source": [
    "# Ask it again\n",
    "\n",
    "response = openai.chat.completions.create(\n",
    "    model=\"gpt-4.1-mini\",\n",
    "    messages=messages\n",
    ")\n",
    "\n",
    "answer = response.choices[0].message.content\n",
    "print(answer)\n"
   ]
  },
  {
   "cell_type": "code",
   "execution_count": 60,
   "metadata": {},
   "outputs": [
    {
     "data": {
      "text/markdown": [
       "Let's analyze the problem step-by-step.\n",
       "\n",
       "**Given:**\n",
       "- Two trains start from the same point and travel in opposite directions.\n",
       "- Speed of first train = 60 miles/hour\n",
       "- Speed of second train = 40 miles/hour\n",
       "- A third train travels at 100 miles/hour.\n",
       "- We want to find the time \\( t \\) (in hours) when the sum of the distances traveled by the first two trains equals the distance traveled by the third train in the same time \\( t \\).\n",
       "\n",
       "---\n",
       "\n",
       "### Step 1: Express distances traveled by each train\n",
       "\n",
       "- Distance traveled by first train after time \\( t \\) hours:\n",
       "  \\[\n",
       "  d_1 = 60 \\times t\n",
       "  \\]\n",
       "\n",
       "- Distance traveled by second train after time \\( t \\) hours:\n",
       "  \\[\n",
       "  d_2 = 40 \\times t\n",
       "  \\]\n",
       "\n",
       "- Distance traveled by third train after time \\( t \\) hours:\n",
       "  \\[\n",
       "  d_3 = 100 \\times t\n",
       "  \\]\n",
       "\n",
       "---\n",
       "\n",
       "### Step 2: Set up the equation for the sum of distances\n",
       "\n",
       "We need:\n",
       "\\[\n",
       "d_1 + d_2 = d_3\n",
       "\\]\n",
       "\n",
       "Substitute the expressions:\n",
       "\\[\n",
       "60t + 40t = 100t\n",
       "\\]\n",
       "\n",
       "Simplify:\n",
       "\\[\n",
       "100t = 100t\n",
       "\\]\n",
       "\n",
       "---\n",
       "\n",
       "### Step 3: Analyze the equation\n",
       "\n",
       "The equation is true for **all** values of \\( t \\). This means:\n",
       "\n",
       "- **At any time \\( t \\), the sum of the distances traveled by the first two trains equals the distance traveled by the third train.**\n",
       "\n",
       "---\n",
       "\n",
       "### **Answer:**\n",
       "\n",
       "- The sum of the distances traveled by the first two trains **always equals** the distance traveled by the third train in the same time.\n",
       "- Therefore, the time \\( t \\) can be **any positive number**.\n",
       "\n",
       "---\n",
       "\n",
       "### **Summary:**\n",
       "\n",
       "\\[\n",
       "\\boxed{\n",
       "\\text{For all } t \\geq 0, \\quad (60t + 40t) = 100t\n",
       "}\n",
       "\\]\n",
       "\n",
       "There is no specific time to wait; the relation holds at all times."
      ],
      "text/plain": [
       "<IPython.core.display.Markdown object>"
      ]
     },
     "metadata": {},
     "output_type": "display_data"
    }
   ],
   "source": [
    "from IPython.display import Markdown, display\n",
    "\n",
    "display(Markdown(answer))\n",
    "\n"
   ]
  },
  {
   "cell_type": "markdown",
   "metadata": {},
   "source": [
    "<table style=\"margin: 0; text-align: left; width:100%\">\n",
    "    <tr>\n",
    "        <td>\n",
    "            <h2 style=\"color:#ff7800;\">Exercise</h2>\n",
    "            <span style=\"color:#ff7800;\">Now try this commercial application:<br/>\n",
    "            First ask the LLM to pick a business area that might be worth exploring for an Agentic AI opportunity.<br/>\n",
    "            Then ask the LLM to present a pain-point in that industry - something challenging that might be ripe for an Agentic solution.<br/>\n",
    "            Finally have 3 third LLM call propose the Agentic AI solution. <br/>\n",
    "            We will cover this at up-coming labs, so don't worry if you're unsure.. just give it a try!\n",
    "            </span>\n",
    "        </td>\n",
    "    </tr>\n",
    "</table>"
   ]
  },
  {
   "cell_type": "code",
   "execution_count": null,
   "metadata": {},
   "outputs": [],
   "source": [
    "# First create the messages:\n",
    "\n",
    "messages = [{\"role\": \"user\", \"content\": \"Something here\"}]\n",
    "\n",
    "# Then make the first call:\n",
    "\n",
    "response =\n",
    "\n",
    "# Then read the business idea:\n",
    "\n",
    "business_idea = response.\n",
    "\n",
    "# And repeat! In the next message, include the business idea within the message"
   ]
  },
  {
   "cell_type": "markdown",
   "metadata": {},
   "source": []
  }
 ],
 "metadata": {
  "kernelspec": {
   "display_name": ".venv",
   "language": "python",
   "name": "python3"
  },
  "language_info": {
   "codemirror_mode": {
    "name": "ipython",
    "version": 3
   },
   "file_extension": ".py",
   "mimetype": "text/x-python",
   "name": "python",
   "nbconvert_exporter": "python",
   "pygments_lexer": "ipython3",
   "version": "3.13.3"
  }
 },
 "nbformat": 4,
 "nbformat_minor": 2
}
