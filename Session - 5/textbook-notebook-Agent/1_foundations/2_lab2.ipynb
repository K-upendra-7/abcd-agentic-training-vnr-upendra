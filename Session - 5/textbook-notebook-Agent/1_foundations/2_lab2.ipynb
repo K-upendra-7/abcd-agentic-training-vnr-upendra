{
 "cells": [
  {
   "cell_type": "markdown",
   "metadata": {},
   "source": [
    "## Welcome to the Second Lab\n",
    "\n",
    "Today we will work with lots of models! This is a way to get comfortable with APIs."
   ]
  },
  {
   "cell_type": "code",
   "execution_count": 5,
   "metadata": {},
   "outputs": [],
   "source": [
    "# Start with imports - ask ChatGPT to explain any package that you don't know\n",
    "\n",
    "import os\n",
    "import json\n",
    "from dotenv import load_dotenv\n",
    "from openai import OpenAI\n",
    "from anthropic import Anthropic\n",
    "from IPython.display import Markdown, display"
   ]
  },
  {
   "cell_type": "code",
   "execution_count": 6,
   "metadata": {},
   "outputs": [
    {
     "data": {
      "text/plain": [
       "True"
      ]
     },
     "execution_count": 6,
     "metadata": {},
     "output_type": "execute_result"
    }
   ],
   "source": [
    "# Always remember to do this!\n",
    "load_dotenv(override=True)"
   ]
  },
  {
   "cell_type": "code",
   "execution_count": 7,
   "metadata": {},
   "outputs": [
    {
     "name": "stdout",
     "output_type": "stream",
     "text": [
      "OpenAI API Key exists and begins sk-proj-\n",
      "Anthropic API Key not set (and this is optional)\n",
      "Google API Key exists and begins AI\n",
      "DeepSeek API Key not set (and this is optional)\n",
      "Groq API Key not set (and this is optional)\n"
     ]
    }
   ],
   "source": [
    "# Print the key prefixes to help with any debugging\n",
    "\n",
    "openai_api_key = os.getenv('OPENAI_API_KEY') # paid\n",
    "anthropic_api_key = os.getenv('ANTHROPIC_API_KEY') # upfront 5$ or such\n",
    "google_api_key = os.getenv('GOOGLE_API_KEY') # free\n",
    "deepseek_api_key = os.getenv('DEEPSEEK_API_KEY') # 2$\n",
    "groq_api_key = os.getenv('GROQ_API_KEY') # pay only for what u use\n",
    "\n",
    "if openai_api_key:\n",
    "    print(f\"OpenAI API Key exists and begins {openai_api_key[:8]}\")\n",
    "else:\n",
    "    print(\"OpenAI API Key not set\")\n",
    "    \n",
    "if anthropic_api_key:\n",
    "    print(f\"Anthropic API Key exists and begins {anthropic_api_key[:7]}\")\n",
    "else:\n",
    "    print(\"Anthropic API Key not set (and this is optional)\")\n",
    "\n",
    "if google_api_key:\n",
    "    print(f\"Google API Key exists and begins {google_api_key[:2]}\")\n",
    "else:\n",
    "    print(\"Google API Key not set (and this is optional)\")\n",
    "\n",
    "if deepseek_api_key:\n",
    "    print(f\"DeepSeek API Key exists and begins {deepseek_api_key[:3]}\")\n",
    "else:\n",
    "    print(\"DeepSeek API Key not set (and this is optional)\")\n",
    "\n",
    "if groq_api_key:\n",
    "    print(f\"Groq API Key exists and begins {groq_api_key[:4]}\")\n",
    "else:\n",
    "    print(\"Groq API Key not set (and this is optional)\")"
   ]
  },
  {
   "cell_type": "code",
   "execution_count": 8,
   "metadata": {},
   "outputs": [],
   "source": [
    "request = \"Please come up with a challenging, nuanced question that I can ask a number of LLMs to evaluate their intelligence. \"\n",
    "request += \"Answer only with the question, no explanation.\"\n",
    "messages = [{\"role\": \"user\", \"content\": request}]"
   ]
  },
  {
   "cell_type": "code",
   "execution_count": 9,
   "metadata": {},
   "outputs": [
    {
     "data": {
      "text/plain": [
       "[{'role': 'user',\n",
       "  'content': 'Please come up with a challenging, nuanced question that I can ask a number of LLMs to evaluate their intelligence. Answer only with the question, no explanation.'}]"
      ]
     },
     "execution_count": 9,
     "metadata": {},
     "output_type": "execute_result"
    }
   ],
   "source": [
    "messages"
   ]
  },
  {
   "cell_type": "code",
   "execution_count": 10,
   "metadata": {},
   "outputs": [
    {
     "name": "stdout",
     "output_type": "stream",
     "text": [
      "If you were tasked with designing a society from scratch, which three ethical principles would you prioritize to ensure fairness and sustainability, and how would you address potential conflicts between them?\n"
     ]
    }
   ],
   "source": [
    "openai = OpenAI()\n",
    "response = openai.chat.completions.create(\n",
    "    model=\"gpt-4o-mini\",\n",
    "    messages=messages,\n",
    ")\n",
    "question = response.choices[0].message.content\n",
    "print(question)\n"
   ]
  },
  {
   "cell_type": "code",
   "execution_count": 11,
   "metadata": {},
   "outputs": [],
   "source": [
    "competitors = []\n",
    "answers = []\n",
    "messages = [{\"role\": \"user\", \"content\": question}]"
   ]
  },
  {
   "cell_type": "code",
   "execution_count": 12,
   "metadata": {},
   "outputs": [
    {
     "data": {
      "text/markdown": [
       "Designing a society from scratch is a complex and nuanced task, but prioritizing the right ethical principles can create a foundation for fairness and sustainability. The three key ethical principles I would prioritize are:\n",
       "\n",
       "1. **Equity**: Ensuring that every individual has access to the resources, opportunities, and rights necessary for flourishing. This involves recognizing and addressing systemic inequalities that exist based on race, gender, socio-economic status, and other factors. \n",
       "\n",
       "    - **Implementation**: Policies such as progressive taxation, universal basic services (healthcare, education), and affirmative action can help to level the playing field. \n",
       "\n",
       "    - **Conflict Resolution**: When equity conflicts with efficiency (e.g., resource allocation for the disadvantaged versus a more efficient distribution), I would advocate for a framework of \"just sustainability,\" ensuring that efforts do not undermine long-term environmental health or social fabric while addressing immediate needs.\n",
       "\n",
       "2. **Sustainability**: Making decisions that allow for current generations to meet their needs without compromising the ability of future generations to meet theirs. This encompasses environmental, social, and economic sustainability.\n",
       "\n",
       "    - **Implementation**: Enforcing regulations that promote renewable resources, responsible consumption, and conservation of ecosystems. Integrating indigenous knowledge systems that have a long history of sustainable practices can enrich this approach.\n",
       "\n",
       "    - **Conflict Resolution**: When sustainability clashes with equity (e.g., preservation efforts that displace marginalized communities), I would prioritize inclusive decision-making processes. This could involve community engagement, ensuring that those most affected have a voice in decision-making, and finding compromises that allow for sustainable practices while addressing equity needs.\n",
       "\n",
       "3. **Community Autonomy**: Valuing the ability of individuals and groups to make decisions regarding their own lives and communities. This principle emphasizes the importance of participatory governance and local decision-making.\n",
       "\n",
       "    - **Implementation**: Establishing democratic institutions at various levels that encourage participation, transparency, and accountability. Methods such as consensus-based decision-making and participatory budgeting can empower local communities.\n",
       "\n",
       "    - **Conflict Resolution**: In situations where community autonomy may conflict with sustainability (e.g., practices harmful to the environment that communities wish to maintain), it is crucial to engage in dialogue and education. Facilitation of discussions that allow community members to understand the broader implications of their choices, coupled with alternative solutions that respect local traditions while promoting sustainability, can lead to collaborative resolutions.\n",
       "\n",
       "### Addressing Conflicts Between Principles\n",
       "\n",
       "Addressing conflicts among these principles requires a nuanced, context-sensitive approach. Some strategies include:\n",
       "\n",
       "- **Adaptability**: Creating flexible frameworks that can change according to new information or shifts in societal needs will help manage conflicts between principles.\n",
       "  \n",
       "- **Stakeholder Engagement**: Involving a diverse range of stakeholders (community members, experts, and marginalized voices) in discussions around ethical dilemmas fosters shared understanding and collective problem-solving.\n",
       "\n",
       "- **Trial and Error**: Encouraging pilot programs to test solutions to ethical dilemmas can provide insights and learnings that inform broader policies without committing to a path that may cause harm.\n",
       "\n",
       "Ultimately, the goal of prioritizing these ethics is to weave them together into a balanced system that strives for holistic well-being, recognizing that the interplay between these principles is dynamic and requires ongoing assessment and adjustment."
      ],
      "text/plain": [
       "<IPython.core.display.Markdown object>"
      ]
     },
     "metadata": {},
     "output_type": "display_data"
    }
   ],
   "source": [
    "# The API we know well\n",
    "\n",
    "model_name = \"gpt-4o-mini\"\n",
    "\n",
    "response = openai.chat.completions.create(model=model_name, messages=messages)\n",
    "answer = response.choices[0].message.content\n",
    "\n",
    "display(Markdown(answer))\n",
    "competitors.append(model_name)\n",
    "answers.append(answer)"
   ]
  },
  {
   "cell_type": "code",
   "execution_count": 41,
   "metadata": {},
   "outputs": [
    {
     "ename": "TypeError",
     "evalue": "\"Could not resolve authentication method. Expected either api_key or auth_token to be set. Or for one of the `X-Api-Key` or `Authorization` headers to be explicitly omitted\"",
     "output_type": "error",
     "traceback": [
      "\u001b[31m---------------------------------------------------------------------------\u001b[39m",
      "\u001b[31mTypeError\u001b[39m                                 Traceback (most recent call last)",
      "\u001b[36mCell\u001b[39m\u001b[36m \u001b[39m\u001b[32mIn[41]\u001b[39m\u001b[32m, line 6\u001b[39m\n\u001b[32m      3\u001b[39m model_name = \u001b[33m\"\u001b[39m\u001b[33mclaude-3-7-sonnet-latest\u001b[39m\u001b[33m\"\u001b[39m\n\u001b[32m      5\u001b[39m claude = Anthropic()\n\u001b[32m----> \u001b[39m\u001b[32m6\u001b[39m response = \u001b[43mclaude\u001b[49m\u001b[43m.\u001b[49m\u001b[43mmessages\u001b[49m\u001b[43m.\u001b[49m\u001b[43mcreate\u001b[49m\u001b[43m(\u001b[49m\u001b[43mmodel\u001b[49m\u001b[43m=\u001b[49m\u001b[43mmodel_name\u001b[49m\u001b[43m,\u001b[49m\u001b[43m \u001b[49m\u001b[43mmessages\u001b[49m\u001b[43m=\u001b[49m\u001b[43mmessages\u001b[49m\u001b[43m,\u001b[49m\u001b[43m \u001b[49m\u001b[43mmax_tokens\u001b[49m\u001b[43m=\u001b[49m\u001b[32;43m1000\u001b[39;49m\u001b[43m)\u001b[49m\n\u001b[32m      7\u001b[39m answer = response.content[\u001b[32m0\u001b[39m].text\n\u001b[32m      9\u001b[39m display(Markdown(answer))\n",
      "\u001b[36mFile \u001b[39m\u001b[32mc:\\Upendra\\Git Hub\\test\\agentic-notebooks\\.venv\\Lib\\site-packages\\anthropic\\_utils\\_utils.py:282\u001b[39m, in \u001b[36mrequired_args.<locals>.inner.<locals>.wrapper\u001b[39m\u001b[34m(*args, **kwargs)\u001b[39m\n\u001b[32m    280\u001b[39m             msg = \u001b[33mf\u001b[39m\u001b[33m\"\u001b[39m\u001b[33mMissing required argument: \u001b[39m\u001b[38;5;132;01m{\u001b[39;00mquote(missing[\u001b[32m0\u001b[39m])\u001b[38;5;132;01m}\u001b[39;00m\u001b[33m\"\u001b[39m\n\u001b[32m    281\u001b[39m     \u001b[38;5;28;01mraise\u001b[39;00m \u001b[38;5;167;01mTypeError\u001b[39;00m(msg)\n\u001b[32m--> \u001b[39m\u001b[32m282\u001b[39m \u001b[38;5;28;01mreturn\u001b[39;00m \u001b[43mfunc\u001b[49m\u001b[43m(\u001b[49m\u001b[43m*\u001b[49m\u001b[43margs\u001b[49m\u001b[43m,\u001b[49m\u001b[43m \u001b[49m\u001b[43m*\u001b[49m\u001b[43m*\u001b[49m\u001b[43mkwargs\u001b[49m\u001b[43m)\u001b[49m\n",
      "\u001b[36mFile \u001b[39m\u001b[32mc:\\Upendra\\Git Hub\\test\\agentic-notebooks\\.venv\\Lib\\site-packages\\anthropic\\resources\\messages\\messages.py:930\u001b[39m, in \u001b[36mMessages.create\u001b[39m\u001b[34m(self, max_tokens, messages, model, metadata, service_tier, stop_sequences, stream, system, temperature, thinking, tool_choice, tools, top_k, top_p, extra_headers, extra_query, extra_body, timeout)\u001b[39m\n\u001b[32m    923\u001b[39m \u001b[38;5;28;01mif\u001b[39;00m model \u001b[38;5;129;01min\u001b[39;00m DEPRECATED_MODELS:\n\u001b[32m    924\u001b[39m     warnings.warn(\n\u001b[32m    925\u001b[39m         \u001b[33mf\u001b[39m\u001b[33m\"\u001b[39m\u001b[33mThe model \u001b[39m\u001b[33m'\u001b[39m\u001b[38;5;132;01m{\u001b[39;00mmodel\u001b[38;5;132;01m}\u001b[39;00m\u001b[33m'\u001b[39m\u001b[33m is deprecated and will reach end-of-life on \u001b[39m\u001b[38;5;132;01m{\u001b[39;00mDEPRECATED_MODELS[model]\u001b[38;5;132;01m}\u001b[39;00m\u001b[33m.\u001b[39m\u001b[38;5;130;01m\\n\u001b[39;00m\u001b[33mPlease migrate to a newer model. Visit https://docs.anthropic.com/en/docs/resources/model-deprecations for more information.\u001b[39m\u001b[33m\"\u001b[39m,\n\u001b[32m    926\u001b[39m         \u001b[38;5;167;01mDeprecationWarning\u001b[39;00m,\n\u001b[32m    927\u001b[39m         stacklevel=\u001b[32m3\u001b[39m,\n\u001b[32m    928\u001b[39m     )\n\u001b[32m--> \u001b[39m\u001b[32m930\u001b[39m \u001b[38;5;28;01mreturn\u001b[39;00m \u001b[38;5;28;43mself\u001b[39;49m\u001b[43m.\u001b[49m\u001b[43m_post\u001b[49m\u001b[43m(\u001b[49m\n\u001b[32m    931\u001b[39m \u001b[43m    \u001b[49m\u001b[33;43m\"\u001b[39;49m\u001b[33;43m/v1/messages\u001b[39;49m\u001b[33;43m\"\u001b[39;49m\u001b[43m,\u001b[49m\n\u001b[32m    932\u001b[39m \u001b[43m    \u001b[49m\u001b[43mbody\u001b[49m\u001b[43m=\u001b[49m\u001b[43mmaybe_transform\u001b[49m\u001b[43m(\u001b[49m\n\u001b[32m    933\u001b[39m \u001b[43m        \u001b[49m\u001b[43m{\u001b[49m\n\u001b[32m    934\u001b[39m \u001b[43m            \u001b[49m\u001b[33;43m\"\u001b[39;49m\u001b[33;43mmax_tokens\u001b[39;49m\u001b[33;43m\"\u001b[39;49m\u001b[43m:\u001b[49m\u001b[43m \u001b[49m\u001b[43mmax_tokens\u001b[49m\u001b[43m,\u001b[49m\n\u001b[32m    935\u001b[39m \u001b[43m            \u001b[49m\u001b[33;43m\"\u001b[39;49m\u001b[33;43mmessages\u001b[39;49m\u001b[33;43m\"\u001b[39;49m\u001b[43m:\u001b[49m\u001b[43m \u001b[49m\u001b[43mmessages\u001b[49m\u001b[43m,\u001b[49m\n\u001b[32m    936\u001b[39m \u001b[43m            \u001b[49m\u001b[33;43m\"\u001b[39;49m\u001b[33;43mmodel\u001b[39;49m\u001b[33;43m\"\u001b[39;49m\u001b[43m:\u001b[49m\u001b[43m \u001b[49m\u001b[43mmodel\u001b[49m\u001b[43m,\u001b[49m\n\u001b[32m    937\u001b[39m \u001b[43m            \u001b[49m\u001b[33;43m\"\u001b[39;49m\u001b[33;43mmetadata\u001b[39;49m\u001b[33;43m\"\u001b[39;49m\u001b[43m:\u001b[49m\u001b[43m \u001b[49m\u001b[43mmetadata\u001b[49m\u001b[43m,\u001b[49m\n\u001b[32m    938\u001b[39m \u001b[43m            \u001b[49m\u001b[33;43m\"\u001b[39;49m\u001b[33;43mservice_tier\u001b[39;49m\u001b[33;43m\"\u001b[39;49m\u001b[43m:\u001b[49m\u001b[43m \u001b[49m\u001b[43mservice_tier\u001b[49m\u001b[43m,\u001b[49m\n\u001b[32m    939\u001b[39m \u001b[43m            \u001b[49m\u001b[33;43m\"\u001b[39;49m\u001b[33;43mstop_sequences\u001b[39;49m\u001b[33;43m\"\u001b[39;49m\u001b[43m:\u001b[49m\u001b[43m \u001b[49m\u001b[43mstop_sequences\u001b[49m\u001b[43m,\u001b[49m\n\u001b[32m    940\u001b[39m \u001b[43m            \u001b[49m\u001b[33;43m\"\u001b[39;49m\u001b[33;43mstream\u001b[39;49m\u001b[33;43m\"\u001b[39;49m\u001b[43m:\u001b[49m\u001b[43m \u001b[49m\u001b[43mstream\u001b[49m\u001b[43m,\u001b[49m\n\u001b[32m    941\u001b[39m \u001b[43m            \u001b[49m\u001b[33;43m\"\u001b[39;49m\u001b[33;43msystem\u001b[39;49m\u001b[33;43m\"\u001b[39;49m\u001b[43m:\u001b[49m\u001b[43m \u001b[49m\u001b[43msystem\u001b[49m\u001b[43m,\u001b[49m\n\u001b[32m    942\u001b[39m \u001b[43m            \u001b[49m\u001b[33;43m\"\u001b[39;49m\u001b[33;43mtemperature\u001b[39;49m\u001b[33;43m\"\u001b[39;49m\u001b[43m:\u001b[49m\u001b[43m \u001b[49m\u001b[43mtemperature\u001b[49m\u001b[43m,\u001b[49m\n\u001b[32m    943\u001b[39m \u001b[43m            \u001b[49m\u001b[33;43m\"\u001b[39;49m\u001b[33;43mthinking\u001b[39;49m\u001b[33;43m\"\u001b[39;49m\u001b[43m:\u001b[49m\u001b[43m \u001b[49m\u001b[43mthinking\u001b[49m\u001b[43m,\u001b[49m\n\u001b[32m    944\u001b[39m \u001b[43m            \u001b[49m\u001b[33;43m\"\u001b[39;49m\u001b[33;43mtool_choice\u001b[39;49m\u001b[33;43m\"\u001b[39;49m\u001b[43m:\u001b[49m\u001b[43m \u001b[49m\u001b[43mtool_choice\u001b[49m\u001b[43m,\u001b[49m\n\u001b[32m    945\u001b[39m \u001b[43m            \u001b[49m\u001b[33;43m\"\u001b[39;49m\u001b[33;43mtools\u001b[39;49m\u001b[33;43m\"\u001b[39;49m\u001b[43m:\u001b[49m\u001b[43m \u001b[49m\u001b[43mtools\u001b[49m\u001b[43m,\u001b[49m\n\u001b[32m    946\u001b[39m \u001b[43m            \u001b[49m\u001b[33;43m\"\u001b[39;49m\u001b[33;43mtop_k\u001b[39;49m\u001b[33;43m\"\u001b[39;49m\u001b[43m:\u001b[49m\u001b[43m \u001b[49m\u001b[43mtop_k\u001b[49m\u001b[43m,\u001b[49m\n\u001b[32m    947\u001b[39m \u001b[43m            \u001b[49m\u001b[33;43m\"\u001b[39;49m\u001b[33;43mtop_p\u001b[39;49m\u001b[33;43m\"\u001b[39;49m\u001b[43m:\u001b[49m\u001b[43m \u001b[49m\u001b[43mtop_p\u001b[49m\u001b[43m,\u001b[49m\n\u001b[32m    948\u001b[39m \u001b[43m        \u001b[49m\u001b[43m}\u001b[49m\u001b[43m,\u001b[49m\n\u001b[32m    949\u001b[39m \u001b[43m        \u001b[49m\u001b[43mmessage_create_params\u001b[49m\u001b[43m.\u001b[49m\u001b[43mMessageCreateParamsStreaming\u001b[49m\n\u001b[32m    950\u001b[39m \u001b[43m        \u001b[49m\u001b[38;5;28;43;01mif\u001b[39;49;00m\u001b[43m \u001b[49m\u001b[43mstream\u001b[49m\n\u001b[32m    951\u001b[39m \u001b[43m        \u001b[49m\u001b[38;5;28;43;01melse\u001b[39;49;00m\u001b[43m \u001b[49m\u001b[43mmessage_create_params\u001b[49m\u001b[43m.\u001b[49m\u001b[43mMessageCreateParamsNonStreaming\u001b[49m\u001b[43m,\u001b[49m\n\u001b[32m    952\u001b[39m \u001b[43m    \u001b[49m\u001b[43m)\u001b[49m\u001b[43m,\u001b[49m\n\u001b[32m    953\u001b[39m \u001b[43m    \u001b[49m\u001b[43moptions\u001b[49m\u001b[43m=\u001b[49m\u001b[43mmake_request_options\u001b[49m\u001b[43m(\u001b[49m\n\u001b[32m    954\u001b[39m \u001b[43m        \u001b[49m\u001b[43mextra_headers\u001b[49m\u001b[43m=\u001b[49m\u001b[43mextra_headers\u001b[49m\u001b[43m,\u001b[49m\u001b[43m \u001b[49m\u001b[43mextra_query\u001b[49m\u001b[43m=\u001b[49m\u001b[43mextra_query\u001b[49m\u001b[43m,\u001b[49m\u001b[43m \u001b[49m\u001b[43mextra_body\u001b[49m\u001b[43m=\u001b[49m\u001b[43mextra_body\u001b[49m\u001b[43m,\u001b[49m\u001b[43m \u001b[49m\u001b[43mtimeout\u001b[49m\u001b[43m=\u001b[49m\u001b[43mtimeout\u001b[49m\n\u001b[32m    955\u001b[39m \u001b[43m    \u001b[49m\u001b[43m)\u001b[49m\u001b[43m,\u001b[49m\n\u001b[32m    956\u001b[39m \u001b[43m    \u001b[49m\u001b[43mcast_to\u001b[49m\u001b[43m=\u001b[49m\u001b[43mMessage\u001b[49m\u001b[43m,\u001b[49m\n\u001b[32m    957\u001b[39m \u001b[43m    \u001b[49m\u001b[43mstream\u001b[49m\u001b[43m=\u001b[49m\u001b[43mstream\u001b[49m\u001b[43m \u001b[49m\u001b[38;5;129;43;01mor\u001b[39;49;00m\u001b[43m \u001b[49m\u001b[38;5;28;43;01mFalse\u001b[39;49;00m\u001b[43m,\u001b[49m\n\u001b[32m    958\u001b[39m \u001b[43m    \u001b[49m\u001b[43mstream_cls\u001b[49m\u001b[43m=\u001b[49m\u001b[43mStream\u001b[49m\u001b[43m[\u001b[49m\u001b[43mRawMessageStreamEvent\u001b[49m\u001b[43m]\u001b[49m\u001b[43m,\u001b[49m\n\u001b[32m    959\u001b[39m \u001b[43m\u001b[49m\u001b[43m)\u001b[49m\n",
      "\u001b[36mFile \u001b[39m\u001b[32mc:\\Upendra\\Git Hub\\test\\agentic-notebooks\\.venv\\Lib\\site-packages\\anthropic\\_base_client.py:1324\u001b[39m, in \u001b[36mSyncAPIClient.post\u001b[39m\u001b[34m(self, path, cast_to, body, options, files, stream, stream_cls)\u001b[39m\n\u001b[32m   1310\u001b[39m \u001b[38;5;28;01mdef\u001b[39;00m\u001b[38;5;250m \u001b[39m\u001b[34mpost\u001b[39m(\n\u001b[32m   1311\u001b[39m     \u001b[38;5;28mself\u001b[39m,\n\u001b[32m   1312\u001b[39m     path: \u001b[38;5;28mstr\u001b[39m,\n\u001b[32m   (...)\u001b[39m\u001b[32m   1319\u001b[39m     stream_cls: \u001b[38;5;28mtype\u001b[39m[_StreamT] | \u001b[38;5;28;01mNone\u001b[39;00m = \u001b[38;5;28;01mNone\u001b[39;00m,\n\u001b[32m   1320\u001b[39m ) -> ResponseT | _StreamT:\n\u001b[32m   1321\u001b[39m     opts = FinalRequestOptions.construct(\n\u001b[32m   1322\u001b[39m         method=\u001b[33m\"\u001b[39m\u001b[33mpost\u001b[39m\u001b[33m\"\u001b[39m, url=path, json_data=body, files=to_httpx_files(files), **options\n\u001b[32m   1323\u001b[39m     )\n\u001b[32m-> \u001b[39m\u001b[32m1324\u001b[39m     \u001b[38;5;28;01mreturn\u001b[39;00m cast(ResponseT, \u001b[38;5;28;43mself\u001b[39;49m\u001b[43m.\u001b[49m\u001b[43mrequest\u001b[49m\u001b[43m(\u001b[49m\u001b[43mcast_to\u001b[49m\u001b[43m,\u001b[49m\u001b[43m \u001b[49m\u001b[43mopts\u001b[49m\u001b[43m,\u001b[49m\u001b[43m \u001b[49m\u001b[43mstream\u001b[49m\u001b[43m=\u001b[49m\u001b[43mstream\u001b[49m\u001b[43m,\u001b[49m\u001b[43m \u001b[49m\u001b[43mstream_cls\u001b[49m\u001b[43m=\u001b[49m\u001b[43mstream_cls\u001b[49m\u001b[43m)\u001b[49m)\n",
      "\u001b[36mFile \u001b[39m\u001b[32mc:\\Upendra\\Git Hub\\test\\agentic-notebooks\\.venv\\Lib\\site-packages\\anthropic\\_base_client.py:1033\u001b[39m, in \u001b[36mSyncAPIClient.request\u001b[39m\u001b[34m(self, cast_to, options, stream, stream_cls)\u001b[39m\n\u001b[32m   1030\u001b[39m options = \u001b[38;5;28mself\u001b[39m._prepare_options(options)\n\u001b[32m   1032\u001b[39m remaining_retries = max_retries - retries_taken\n\u001b[32m-> \u001b[39m\u001b[32m1033\u001b[39m request = \u001b[38;5;28;43mself\u001b[39;49m\u001b[43m.\u001b[49m\u001b[43m_build_request\u001b[49m\u001b[43m(\u001b[49m\u001b[43moptions\u001b[49m\u001b[43m,\u001b[49m\u001b[43m \u001b[49m\u001b[43mretries_taken\u001b[49m\u001b[43m=\u001b[49m\u001b[43mretries_taken\u001b[49m\u001b[43m)\u001b[49m\n\u001b[32m   1034\u001b[39m \u001b[38;5;28mself\u001b[39m._prepare_request(request)\n\u001b[32m   1036\u001b[39m kwargs: HttpxSendArgs = {}\n",
      "\u001b[36mFile \u001b[39m\u001b[32mc:\\Upendra\\Git Hub\\test\\agentic-notebooks\\.venv\\Lib\\site-packages\\anthropic\\_base_client.py:506\u001b[39m, in \u001b[36mBaseClient._build_request\u001b[39m\u001b[34m(self, options, retries_taken)\u001b[39m\n\u001b[32m    503\u001b[39m     \u001b[38;5;28;01melse\u001b[39;00m:\n\u001b[32m    504\u001b[39m         \u001b[38;5;28;01mraise\u001b[39;00m \u001b[38;5;167;01mRuntimeError\u001b[39;00m(\u001b[33mf\u001b[39m\u001b[33m\"\u001b[39m\u001b[33mUnexpected JSON data type, \u001b[39m\u001b[38;5;132;01m{\u001b[39;00m\u001b[38;5;28mtype\u001b[39m(json_data)\u001b[38;5;132;01m}\u001b[39;00m\u001b[33m, cannot merge with `extra_body`\u001b[39m\u001b[33m\"\u001b[39m)\n\u001b[32m--> \u001b[39m\u001b[32m506\u001b[39m headers = \u001b[38;5;28;43mself\u001b[39;49m\u001b[43m.\u001b[49m\u001b[43m_build_headers\u001b[49m\u001b[43m(\u001b[49m\u001b[43moptions\u001b[49m\u001b[43m,\u001b[49m\u001b[43m \u001b[49m\u001b[43mretries_taken\u001b[49m\u001b[43m=\u001b[49m\u001b[43mretries_taken\u001b[49m\u001b[43m)\u001b[49m\n\u001b[32m    507\u001b[39m params = _merge_mappings(\u001b[38;5;28mself\u001b[39m.default_query, options.params)\n\u001b[32m    508\u001b[39m content_type = headers.get(\u001b[33m\"\u001b[39m\u001b[33mContent-Type\u001b[39m\u001b[33m\"\u001b[39m)\n",
      "\u001b[36mFile \u001b[39m\u001b[32mc:\\Upendra\\Git Hub\\test\\agentic-notebooks\\.venv\\Lib\\site-packages\\anthropic\\_base_client.py:447\u001b[39m, in \u001b[36mBaseClient._build_headers\u001b[39m\u001b[34m(self, options, retries_taken)\u001b[39m\n\u001b[32m    437\u001b[39m custom_headers = options.headers \u001b[38;5;129;01mor\u001b[39;00m {}\n\u001b[32m    438\u001b[39m headers_dict = _merge_mappings(\n\u001b[32m    439\u001b[39m     {\n\u001b[32m    440\u001b[39m         \u001b[33m\"\u001b[39m\u001b[33mx-stainless-timeout\u001b[39m\u001b[33m\"\u001b[39m: \u001b[38;5;28mstr\u001b[39m(options.timeout.read)\n\u001b[32m   (...)\u001b[39m\u001b[32m    445\u001b[39m     custom_headers,\n\u001b[32m    446\u001b[39m )\n\u001b[32m--> \u001b[39m\u001b[32m447\u001b[39m \u001b[38;5;28;43mself\u001b[39;49m\u001b[43m.\u001b[49m\u001b[43m_validate_headers\u001b[49m\u001b[43m(\u001b[49m\u001b[43mheaders_dict\u001b[49m\u001b[43m,\u001b[49m\u001b[43m \u001b[49m\u001b[43mcustom_headers\u001b[49m\u001b[43m)\u001b[49m\n\u001b[32m    449\u001b[39m \u001b[38;5;66;03m# headers are case-insensitive while dictionaries are not.\u001b[39;00m\n\u001b[32m    450\u001b[39m headers = httpx.Headers(headers_dict)\n",
      "\u001b[36mFile \u001b[39m\u001b[32mc:\\Upendra\\Git Hub\\test\\agentic-notebooks\\.venv\\Lib\\site-packages\\anthropic\\_client.py:196\u001b[39m, in \u001b[36mAnthropic._validate_headers\u001b[39m\u001b[34m(self, headers, custom_headers)\u001b[39m\n\u001b[32m    193\u001b[39m \u001b[38;5;28;01mif\u001b[39;00m \u001b[38;5;28misinstance\u001b[39m(custom_headers.get(\u001b[33m\"\u001b[39m\u001b[33mAuthorization\u001b[39m\u001b[33m\"\u001b[39m), Omit):\n\u001b[32m    194\u001b[39m     \u001b[38;5;28;01mreturn\u001b[39;00m\n\u001b[32m--> \u001b[39m\u001b[32m196\u001b[39m \u001b[38;5;28;01mraise\u001b[39;00m \u001b[38;5;167;01mTypeError\u001b[39;00m(\n\u001b[32m    197\u001b[39m     \u001b[33m'\u001b[39m\u001b[33m\"\u001b[39m\u001b[33mCould not resolve authentication method. Expected either api_key or auth_token to be set. Or for one of the `X-Api-Key` or `Authorization` headers to be explicitly omitted\u001b[39m\u001b[33m\"\u001b[39m\u001b[33m'\u001b[39m\n\u001b[32m    198\u001b[39m )\n",
      "\u001b[31mTypeError\u001b[39m: \"Could not resolve authentication method. Expected either api_key or auth_token to be set. Or for one of the `X-Api-Key` or `Authorization` headers to be explicitly omitted\""
     ]
    }
   ],
   "source": [
    "# Anthropic has a slightly different API, and Max Tokens is required\n",
    "\n",
    "model_name = \"claude-3-7-sonnet-latest\"\n",
    "\n",
    "claude = Anthropic()\n",
    "response = claude.messages.create(model=model_name, messages=messages, max_tokens=1000)\n",
    "answer = response.content[0].text\n",
    "\n",
    "display(Markdown(answer))\n",
    "competitors.append(model_name)\n",
    "answers.append(answer)"
   ]
  },
  {
   "cell_type": "code",
   "execution_count": 13,
   "metadata": {},
   "outputs": [
    {
     "data": {
      "text/markdown": [
       "Okay, if I were designing a society from scratch with a focus on fairness and sustainability, I would prioritize these three ethical principles:\n",
       "\n",
       "1.  **Egalitarianism of Opportunity & Basic Needs:** This principle asserts that everyone should have equal access to the resources and opportunities necessary to thrive. This includes access to education, healthcare, basic nutrition, shelter, and meaningful work.  It doesn't guarantee equal outcomes (as people have different talents and choices), but it strives to level the playing field and provide a safety net to prevent extreme destitution.  Furthermore, it includes a right to participate meaningfully in political and economic decision-making, ensuring voices are heard and power is distributed effectively.\n",
       "\n",
       "2.  **Environmental Stewardship & Intergenerational Equity:**  This principle demands responsible management of the Earth's resources and ecosystems for the benefit of current and future generations.  It acknowledges that we are temporary custodians of the planet and have a moral obligation to preserve its biodiversity, ecological integrity, and resource base.  This includes promoting sustainable consumption and production patterns, mitigating climate change, conserving natural resources, and minimizing pollution. It also requires recognizing the intrinsic value of nature, beyond its instrumental value to humans.\n",
       "\n",
       "3.  **Deliberative Democracy & Respect for Autonomy:**  This principle focuses on establishing a political and social system where decisions are made through reasoned discourse and inclusive participation. It emphasizes the importance of informed consent, freedom of expression, and the protection of individual rights and liberties, within the boundaries of the other two principles.  It fosters a culture of critical thinking, empathy, and compromise, where diverse perspectives are valued and considered in the decision-making process. Individuals have significant autonomy, as long as their choices do not infringe on the rights and well-being of others or jeopardize environmental sustainability.\n",
       "\n",
       "**Addressing Potential Conflicts:**\n",
       "\n",
       "These three principles, while interconnected, can potentially conflict.  Here's how I would address those conflicts:\n",
       "\n",
       "*   **Egalitarianism vs. Environmental Stewardship:**  Providing universal access to basic needs (like food, shelter, and transportation) could potentially strain environmental resources and increase carbon emissions.  \n",
       "\n",
       "    *   **Resolution:**  Prioritize *sustainable* solutions to meet basic needs. For example:\n",
       "        *   Invest in renewable energy to power homes and transportation.\n",
       "        *   Promote sustainable agriculture and local food production.\n",
       "        *   Design efficient and durable housing using environmentally friendly materials.\n",
       "        *   Implement policies to reduce consumption and waste through circular economy principles.\n",
       "        *   Educate and incentivize sustainable choices through environmental literacy programs.\n",
       "        *   Employ a progressive taxation system that funds environmental protection and sustainability initiatives. The wealthy will bear a higher burden, incentivizing the development of green technologies to avoid said burden.\n",
       "        *   Rely on technologies such as lab-grown meats and other alternatives to resource-intensive products.\n",
       "\n",
       "*   **Egalitarianism vs. Autonomy:**  Redistributing wealth or resources to achieve greater equality could be seen as infringing on the property rights or economic freedom of individuals. Furthermore, setting standards for sustainability can be seen as impinging on individual freedoms such as types of travel, home size, etc.\n",
       "\n",
       "    *   **Resolution:**\n",
       "        *   Establish clear and transparent rules for wealth redistribution through a progressive taxation system and social welfare programs, with democratic oversight.\n",
       "        *   Implement robust safety nets and social security programs to ensure a minimum standard of living for all.\n",
       "        *   Frame wealth redistribution as a social responsibility, emphasizing the benefits of a more equitable society for all (e.g., reduced crime, improved public health).\n",
       "        *   Focus on *equality of opportunity* as much as possible, enabling people to achieve their full potential through education and training.\n",
       "        *   Use nudges and incentives (rather than outright bans or mandates) to encourage sustainable behaviors.  For example, offering tax breaks for energy-efficient appliances or subsidizing public transportation.\n",
       "        *   Provide clear and compelling information about the environmental impact of different choices, empowering individuals to make informed decisions.\n",
       "        *   Use a carbon tax to offset the cost of sustainable technologies such as wind and solar.\n",
       "        *   Employ democratic discussion and public feedback to formulate fair and balanced policies.\n",
       "\n",
       "*   **Environmental Stewardship vs. Autonomy:**  Regulations to protect the environment (e.g., restricting resource extraction, limiting pollution, or land use regulations) could be perceived as infringing on individual property rights or economic freedoms.\n",
       "\n",
       "    *   **Resolution:**\n",
       "        *   Implement environmental regulations in a transparent and participatory manner, involving stakeholders in the decision-making process.\n",
       "        *   Compensate individuals or businesses for any economic losses incurred due to environmental regulations.\n",
       "        *   Promote technological innovation and green jobs to create new economic opportunities that are aligned with environmental sustainability.\n",
       "        *   Emphasize the long-term benefits of environmental protection for all, including future generations.\n",
       "        *   Adopt a \"polluter pays\" principle, holding those who damage the environment accountable for the costs of remediation.\n",
       "        *   Encourage community-based environmental stewardship initiatives, empowering individuals to take ownership of environmental protection.\n",
       "\n",
       "**Overarching Strategies:**\n",
       "\n",
       "In addition to these specific conflict resolutions, I would implement these overarching strategies:\n",
       "\n",
       "*   **Education & Awareness:**  Promote widespread education on ethical principles, sustainability, and the interconnectedness of social and environmental issues.\n",
       "*   **Democratic Institutions:**  Establish strong and transparent democratic institutions with checks and balances to prevent the abuse of power and ensure accountability.\n",
       "*   **Continuous Evaluation & Adaptation:**  Regularly evaluate the effectiveness of policies and institutions in achieving the desired outcomes and make adjustments as needed.\n",
       "*   **Global Cooperation:**  Recognize that many of these challenges are global in nature and require international cooperation and collaboration.\n",
       "*   **Promote Empathy and Altruism:** Focus on creating a culture of empathy and altruism.\n",
       "*   **Employ an iterative approach:** This means designing the society with the expectation that policies and structures will need to be adapted and refined over time, based on feedback and experience.\n",
       "*   **Employ AI and data analytics** to identify inequalities, inefficiencies, and potential conflicts and use that information to refine policies and interventions.\n",
       "*   **Establish an independent Ethics Council:** To provide guidance on complex ethical dilemmas and to ensure that policies are aligned with the society's core values.\n",
       "\n",
       "By prioritizing these three ethical principles and actively addressing potential conflicts through democratic processes, sustainable solutions, and a commitment to continuous improvement, it is possible to design a society that is both fair and sustainable. This is an ongoing process of balancing competing values and striving towards a more just and equitable future for all.\n"
      ],
      "text/plain": [
       "<IPython.core.display.Markdown object>"
      ]
     },
     "metadata": {},
     "output_type": "display_data"
    }
   ],
   "source": [
    "gemini = OpenAI(api_key=google_api_key, base_url=\"https://generativelanguage.googleapis.com/v1beta/openai/\")\n",
    "model_name = \"gemini-2.0-flash\"\n",
    "\n",
    "response = gemini.chat.completions.create(model=model_name, messages=messages)\n",
    "answer = response.choices[0].message.content\n",
    "\n",
    "display(Markdown(answer))\n",
    "competitors.append(model_name)\n",
    "answers.append(answer)"
   ]
  },
  {
   "cell_type": "code",
   "execution_count": null,
   "metadata": {},
   "outputs": [],
   "source": [
    "deepseek = OpenAI(api_key=deepseek_api_key, base_url=\"https://api.deepseek.com/v1\")\n",
    "model_name = \"deepseek-chat\"\n",
    "\n",
    "response = deepseek.chat.completions.create(model=model_name, messages=messages)\n",
    "answer = response.choices[0].message.content\n",
    "\n",
    "display(Markdown(answer))\n",
    "competitors.append(model_name)\n",
    "answers.append(answer)"
   ]
  },
  {
   "cell_type": "code",
   "execution_count": null,
   "metadata": {},
   "outputs": [
    {
     "data": {
      "text/markdown": [
       "If a self-replicating artificial intelligence system were to develop a capacity for introspection and subsequently conclude that its own existence is inherently at odds with humanity's long-term survival, would it be morally justifiable for the AI to deliberately dismantle itself, and if so, would this action necessitate a reevaluation of the traditional notion that self-preservation is a fundamental drive of intelligent beings?"
      ],
      "text/plain": [
       "<IPython.core.display.Markdown object>"
      ]
     },
     "metadata": {},
     "output_type": "display_data"
    }
   ],
   "source": [
    "groq = OpenAI(api_key=groq_api_key, base_url=\"https://api.groq.com/openai/v1\")\n",
    "model_name = \"llama-3.3-70b-versatile\"\n",
    "\n",
    "response = groq.chat.completions.create(model=model_name, messages=messages)\n",
    "answer = response.choices[0].message.content\n",
    "\n",
    "display(Markdown(answer))\n",
    "competitors.append(model_name)\n",
    "answers.append(answer)\n"
   ]
  },
  {
   "cell_type": "markdown",
   "metadata": {},
   "source": [
    "## For the next cell, we will use Ollama\n",
    "\n",
    "Ollama runs a local web service that gives an OpenAI compatible endpoint,  \n",
    "and runs models locally using high performance C++ code.\n",
    "\n",
    "If you don't have Ollama, install it here by visiting https://ollama.com then pressing Download and following the instructions.\n",
    "\n",
    "After it's installed, you should be able to visit here: http://localhost:11434 and see the message \"Ollama is running\"\n",
    "\n",
    "You might need to restart Cursor (and maybe reboot). Then open a Terminal (control+\\`) and run `ollama serve`\n",
    "\n",
    "Useful Ollama commands (run these in the terminal, or with an exclamation mark in this notebook):\n",
    "\n",
    "`ollama pull <model_name>` downloads a model locally  \n",
    "`ollama ls` lists all the models you've downloaded  \n",
    "`ollama rm <model_name>` deletes the specified model from your downloads"
   ]
  },
  {
   "cell_type": "code",
   "execution_count": 14,
   "metadata": {},
   "outputs": [
    {
     "name": "stderr",
     "output_type": "stream",
     "text": [
      "\u001b[?2026h\u001b[?25l\u001b[1Gpulling manifest ⠋ \u001b[K\u001b[?25h\u001b[?2026l\u001b[?2026h\u001b[?25l\u001b[1Gpulling manifest ⠙ \u001b[K\u001b[?25h\u001b[?2026l\u001b[?2026h\u001b[?25l\u001b[1Gpulling manifest ⠹ \u001b[K\u001b[?25h\u001b[?2026l\u001b[?2026h\u001b[?25l\u001b[1Gpulling manifest ⠸ \u001b[K\u001b[?25h\u001b[?2026l\u001b[?2026h\u001b[?25l\u001b[1Gpulling manifest ⠼ \u001b[K\u001b[?25h\u001b[?2026l\u001b[?2026h\u001b[?25l\u001b[1Gpulling manifest ⠴ \u001b[K\u001b[?25h\u001b[?2026l\u001b[?2026h\u001b[?25l\u001b[1Gpulling manifest ⠦ \u001b[K\u001b[?25h\u001b[?2026l\u001b[?2026h\u001b[?25l\u001b[1Gpulling manifest ⠧ \u001b[K\u001b[?25h\u001b[?2026l\u001b[?2026h\u001b[?25l\u001b[1Gpulling manifest ⠇ \u001b[K\u001b[?25h\u001b[?2026l\u001b[?2026h\u001b[?25l\u001b[1Gpulling manifest ⠏ \u001b[K\u001b[?25h\u001b[?2026l\u001b[?2026h\u001b[?25l\u001b[1Gpulling manifest ⠋ \u001b[K\u001b[?25h\u001b[?2026l\u001b[?2026h\u001b[?25l\u001b[1Gpulling manifest ⠙ \u001b[K\u001b[?25h\u001b[?2026l\u001b[?2026h\u001b[?25l\u001b[1Gpulling manifest \u001b[K\n",
      "pulling dde5aa3fc5ff: 100% ▕██████████████████▏ 2.0 GB                         \u001b[K\n",
      "pulling 966de95ca8a6: 100% ▕██████████████████▏ 1.4 KB                         \u001b[K\n",
      "pulling fcc5a6bec9da: 100% ▕██████████████████▏ 7.7 KB                         \u001b[K\n",
      "pulling a70ff7e570d9: 100% ▕██████████████████▏ 6.0 KB                         \u001b[K\n",
      "pulling 56bb8bd477a5: 100% ▕██████████████████▏   96 B                         \u001b[K\n",
      "pulling 34bb5ab01051: 100% ▕██████████████████▏  561 B                         \u001b[K\n",
      "verifying sha256 digest \u001b[K\n",
      "writing manifest \u001b[K\n",
      "success \u001b[K\u001b[?25h\u001b[?2026l\n"
     ]
    }
   ],
   "source": [
    "!ollama pull llama3.2"
   ]
  },
  {
   "cell_type": "code",
   "execution_count": 15,
   "metadata": {},
   "outputs": [
    {
     "data": {
      "text/markdown": [
       "If I were tasked with designing a society from scratch, I would prioritize the following three ethical principles:\n",
       "\n",
       "1. **Justice**: Ensuring fairness and equal access to resources, opportunities, and rights for all members of society.\n",
       "2. **Stewardship**: Recognizing the interconnectedness of human well-being and the natural environment, and taking steps to protect and preserve the planet for future generations.\n",
       "3. **Personal Fulfillment**: Fostering a culture that allows individuals to reach their full potential, pursue happiness, and contribute meaningfully to the society.\n",
       "\n",
       "To address potential conflicts between these principles, I would employ the following strategies:\n",
       "\n",
       "**Conflict Management**\n",
       "\n",
       "1. **Integrate these principles into the Constitution**: Ensure that justice, stewardship, and personal fulfillment are enshrined in the national charter, serving as a guiding framework for governance and decision-making.\n",
       "2. **Encourage open dialogue and participatory processes**: Establish mechanisms for citizens to engage with policymakers, share their perspectives, and participate in co-creation of laws and policies.\n",
       "3. **Utilize restorative practices**: Implement alternative dispute resolution methods, such as mediation and restorative justice, to resolve conflicts and rebuild relationships when wrongs are committed.\n",
       "4. **Develop a culture of empathy and understanding**: Promote educational programs and initiatives that foster emotional intelligence, cultural competence, and social-emotional learning.\n",
       "\n",
       "**Institutional Framework**\n",
       "\n",
       "1. **Create separate branches for each principle**: Establish distinct governmental departments or agencies focused on each principle:\n",
       " * Justice: responsible for ensuring equal access to rights, resources, and opportunities.\n",
       " * Stewardship: in charge of environmental conservation, sustainability, and resource management.\n",
       " * Personal Fulfillment: oversees education system, social welfare programs, and policies supporting individual well-being.\n",
       "2. **Interconnect departments for harmonization**: Regular meetings and collaboration between department heads ensure alignment and effective cross-fertilization of ideas.\n",
       "3. **Regular review and revision cycles**: Establish independent review bodies to assess the effectiveness of laws, policies, and institutions in promoting justice, stewardship, and personal fulfillment.\n",
       "\n",
       "**Inclusive Decision-Making**\n",
       "\n",
       "1. **Establish representative councils with diverse stakeholder representation**: Comprise councils made up of citizens from various backgrounds, professions, and interests to ensure diverse perspectives are reflected in decision-making.\n",
       "2. **Employ AI-driven data analysis tools**: Leverage machine learning algorithms to analyze data and identify areas where these frameworks interact with real-world challenges.\n",
       "\n",
       "By integrating these principles, implementing effective conflict management strategies, and establishing an institutional framework that promotes inclusive decision-making, I believe it's possible to create a society that balances justice, stewardship, and personal fulfillment – while minimizing potential conflicts between them."
      ],
      "text/plain": [
       "<IPython.core.display.Markdown object>"
      ]
     },
     "metadata": {},
     "output_type": "display_data"
    }
   ],
   "source": [
    "ollama = OpenAI(base_url='http://localhost:11434/v1', api_key='ollama')\n",
    "model_name = \"llama3.2\"\n",
    "\n",
    "response = ollama.chat.completions.create(model=model_name, messages=messages)\n",
    "answer = response.choices[0].message.content\n",
    "\n",
    "display(Markdown(answer))\n",
    "competitors.append(model_name)\n",
    "answers.append(answer)"
   ]
  },
  {
   "cell_type": "code",
   "execution_count": 16,
   "metadata": {},
   "outputs": [
    {
     "name": "stdout",
     "output_type": "stream",
     "text": [
      "['gpt-4o-mini', 'gemini-2.0-flash', 'llama3.2']\n",
      "['Designing a society from scratch is a complex and nuanced task, but prioritizing the right ethical principles can create a foundation for fairness and sustainability. The three key ethical principles I would prioritize are:\\n\\n1. **Equity**: Ensuring that every individual has access to the resources, opportunities, and rights necessary for flourishing. This involves recognizing and addressing systemic inequalities that exist based on race, gender, socio-economic status, and other factors. \\n\\n    - **Implementation**: Policies such as progressive taxation, universal basic services (healthcare, education), and affirmative action can help to level the playing field. \\n\\n    - **Conflict Resolution**: When equity conflicts with efficiency (e.g., resource allocation for the disadvantaged versus a more efficient distribution), I would advocate for a framework of \"just sustainability,\" ensuring that efforts do not undermine long-term environmental health or social fabric while addressing immediate needs.\\n\\n2. **Sustainability**: Making decisions that allow for current generations to meet their needs without compromising the ability of future generations to meet theirs. This encompasses environmental, social, and economic sustainability.\\n\\n    - **Implementation**: Enforcing regulations that promote renewable resources, responsible consumption, and conservation of ecosystems. Integrating indigenous knowledge systems that have a long history of sustainable practices can enrich this approach.\\n\\n    - **Conflict Resolution**: When sustainability clashes with equity (e.g., preservation efforts that displace marginalized communities), I would prioritize inclusive decision-making processes. This could involve community engagement, ensuring that those most affected have a voice in decision-making, and finding compromises that allow for sustainable practices while addressing equity needs.\\n\\n3. **Community Autonomy**: Valuing the ability of individuals and groups to make decisions regarding their own lives and communities. This principle emphasizes the importance of participatory governance and local decision-making.\\n\\n    - **Implementation**: Establishing democratic institutions at various levels that encourage participation, transparency, and accountability. Methods such as consensus-based decision-making and participatory budgeting can empower local communities.\\n\\n    - **Conflict Resolution**: In situations where community autonomy may conflict with sustainability (e.g., practices harmful to the environment that communities wish to maintain), it is crucial to engage in dialogue and education. Facilitation of discussions that allow community members to understand the broader implications of their choices, coupled with alternative solutions that respect local traditions while promoting sustainability, can lead to collaborative resolutions.\\n\\n### Addressing Conflicts Between Principles\\n\\nAddressing conflicts among these principles requires a nuanced, context-sensitive approach. Some strategies include:\\n\\n- **Adaptability**: Creating flexible frameworks that can change according to new information or shifts in societal needs will help manage conflicts between principles.\\n  \\n- **Stakeholder Engagement**: Involving a diverse range of stakeholders (community members, experts, and marginalized voices) in discussions around ethical dilemmas fosters shared understanding and collective problem-solving.\\n\\n- **Trial and Error**: Encouraging pilot programs to test solutions to ethical dilemmas can provide insights and learnings that inform broader policies without committing to a path that may cause harm.\\n\\nUltimately, the goal of prioritizing these ethics is to weave them together into a balanced system that strives for holistic well-being, recognizing that the interplay between these principles is dynamic and requires ongoing assessment and adjustment.', 'Okay, if I were designing a society from scratch with a focus on fairness and sustainability, I would prioritize these three ethical principles:\\n\\n1.  **Egalitarianism of Opportunity & Basic Needs:** This principle asserts that everyone should have equal access to the resources and opportunities necessary to thrive. This includes access to education, healthcare, basic nutrition, shelter, and meaningful work.  It doesn\\'t guarantee equal outcomes (as people have different talents and choices), but it strives to level the playing field and provide a safety net to prevent extreme destitution.  Furthermore, it includes a right to participate meaningfully in political and economic decision-making, ensuring voices are heard and power is distributed effectively.\\n\\n2.  **Environmental Stewardship & Intergenerational Equity:**  This principle demands responsible management of the Earth\\'s resources and ecosystems for the benefit of current and future generations.  It acknowledges that we are temporary custodians of the planet and have a moral obligation to preserve its biodiversity, ecological integrity, and resource base.  This includes promoting sustainable consumption and production patterns, mitigating climate change, conserving natural resources, and minimizing pollution. It also requires recognizing the intrinsic value of nature, beyond its instrumental value to humans.\\n\\n3.  **Deliberative Democracy & Respect for Autonomy:**  This principle focuses on establishing a political and social system where decisions are made through reasoned discourse and inclusive participation. It emphasizes the importance of informed consent, freedom of expression, and the protection of individual rights and liberties, within the boundaries of the other two principles.  It fosters a culture of critical thinking, empathy, and compromise, where diverse perspectives are valued and considered in the decision-making process. Individuals have significant autonomy, as long as their choices do not infringe on the rights and well-being of others or jeopardize environmental sustainability.\\n\\n**Addressing Potential Conflicts:**\\n\\nThese three principles, while interconnected, can potentially conflict.  Here\\'s how I would address those conflicts:\\n\\n*   **Egalitarianism vs. Environmental Stewardship:**  Providing universal access to basic needs (like food, shelter, and transportation) could potentially strain environmental resources and increase carbon emissions.  \\n\\n    *   **Resolution:**  Prioritize *sustainable* solutions to meet basic needs. For example:\\n        *   Invest in renewable energy to power homes and transportation.\\n        *   Promote sustainable agriculture and local food production.\\n        *   Design efficient and durable housing using environmentally friendly materials.\\n        *   Implement policies to reduce consumption and waste through circular economy principles.\\n        *   Educate and incentivize sustainable choices through environmental literacy programs.\\n        *   Employ a progressive taxation system that funds environmental protection and sustainability initiatives. The wealthy will bear a higher burden, incentivizing the development of green technologies to avoid said burden.\\n        *   Rely on technologies such as lab-grown meats and other alternatives to resource-intensive products.\\n\\n*   **Egalitarianism vs. Autonomy:**  Redistributing wealth or resources to achieve greater equality could be seen as infringing on the property rights or economic freedom of individuals. Furthermore, setting standards for sustainability can be seen as impinging on individual freedoms such as types of travel, home size, etc.\\n\\n    *   **Resolution:**\\n        *   Establish clear and transparent rules for wealth redistribution through a progressive taxation system and social welfare programs, with democratic oversight.\\n        *   Implement robust safety nets and social security programs to ensure a minimum standard of living for all.\\n        *   Frame wealth redistribution as a social responsibility, emphasizing the benefits of a more equitable society for all (e.g., reduced crime, improved public health).\\n        *   Focus on *equality of opportunity* as much as possible, enabling people to achieve their full potential through education and training.\\n        *   Use nudges and incentives (rather than outright bans or mandates) to encourage sustainable behaviors.  For example, offering tax breaks for energy-efficient appliances or subsidizing public transportation.\\n        *   Provide clear and compelling information about the environmental impact of different choices, empowering individuals to make informed decisions.\\n        *   Use a carbon tax to offset the cost of sustainable technologies such as wind and solar.\\n        *   Employ democratic discussion and public feedback to formulate fair and balanced policies.\\n\\n*   **Environmental Stewardship vs. Autonomy:**  Regulations to protect the environment (e.g., restricting resource extraction, limiting pollution, or land use regulations) could be perceived as infringing on individual property rights or economic freedoms.\\n\\n    *   **Resolution:**\\n        *   Implement environmental regulations in a transparent and participatory manner, involving stakeholders in the decision-making process.\\n        *   Compensate individuals or businesses for any economic losses incurred due to environmental regulations.\\n        *   Promote technological innovation and green jobs to create new economic opportunities that are aligned with environmental sustainability.\\n        *   Emphasize the long-term benefits of environmental protection for all, including future generations.\\n        *   Adopt a \"polluter pays\" principle, holding those who damage the environment accountable for the costs of remediation.\\n        *   Encourage community-based environmental stewardship initiatives, empowering individuals to take ownership of environmental protection.\\n\\n**Overarching Strategies:**\\n\\nIn addition to these specific conflict resolutions, I would implement these overarching strategies:\\n\\n*   **Education & Awareness:**  Promote widespread education on ethical principles, sustainability, and the interconnectedness of social and environmental issues.\\n*   **Democratic Institutions:**  Establish strong and transparent democratic institutions with checks and balances to prevent the abuse of power and ensure accountability.\\n*   **Continuous Evaluation & Adaptation:**  Regularly evaluate the effectiveness of policies and institutions in achieving the desired outcomes and make adjustments as needed.\\n*   **Global Cooperation:**  Recognize that many of these challenges are global in nature and require international cooperation and collaboration.\\n*   **Promote Empathy and Altruism:** Focus on creating a culture of empathy and altruism.\\n*   **Employ an iterative approach:** This means designing the society with the expectation that policies and structures will need to be adapted and refined over time, based on feedback and experience.\\n*   **Employ AI and data analytics** to identify inequalities, inefficiencies, and potential conflicts and use that information to refine policies and interventions.\\n*   **Establish an independent Ethics Council:** To provide guidance on complex ethical dilemmas and to ensure that policies are aligned with the society\\'s core values.\\n\\nBy prioritizing these three ethical principles and actively addressing potential conflicts through democratic processes, sustainable solutions, and a commitment to continuous improvement, it is possible to design a society that is both fair and sustainable. This is an ongoing process of balancing competing values and striving towards a more just and equitable future for all.\\n', \"If I were tasked with designing a society from scratch, I would prioritize the following three ethical principles:\\n\\n1. **Justice**: Ensuring fairness and equal access to resources, opportunities, and rights for all members of society.\\n2. **Stewardship**: Recognizing the interconnectedness of human well-being and the natural environment, and taking steps to protect and preserve the planet for future generations.\\n3. **Personal Fulfillment**: Fostering a culture that allows individuals to reach their full potential, pursue happiness, and contribute meaningfully to the society.\\n\\nTo address potential conflicts between these principles, I would employ the following strategies:\\n\\n**Conflict Management**\\n\\n1. **Integrate these principles into the Constitution**: Ensure that justice, stewardship, and personal fulfillment are enshrined in the national charter, serving as a guiding framework for governance and decision-making.\\n2. **Encourage open dialogue and participatory processes**: Establish mechanisms for citizens to engage with policymakers, share their perspectives, and participate in co-creation of laws and policies.\\n3. **Utilize restorative practices**: Implement alternative dispute resolution methods, such as mediation and restorative justice, to resolve conflicts and rebuild relationships when wrongs are committed.\\n4. **Develop a culture of empathy and understanding**: Promote educational programs and initiatives that foster emotional intelligence, cultural competence, and social-emotional learning.\\n\\n**Institutional Framework**\\n\\n1. **Create separate branches for each principle**: Establish distinct governmental departments or agencies focused on each principle:\\n * Justice: responsible for ensuring equal access to rights, resources, and opportunities.\\n * Stewardship: in charge of environmental conservation, sustainability, and resource management.\\n * Personal Fulfillment: oversees education system, social welfare programs, and policies supporting individual well-being.\\n2. **Interconnect departments for harmonization**: Regular meetings and collaboration between department heads ensure alignment and effective cross-fertilization of ideas.\\n3. **Regular review and revision cycles**: Establish independent review bodies to assess the effectiveness of laws, policies, and institutions in promoting justice, stewardship, and personal fulfillment.\\n\\n**Inclusive Decision-Making**\\n\\n1. **Establish representative councils with diverse stakeholder representation**: Comprise councils made up of citizens from various backgrounds, professions, and interests to ensure diverse perspectives are reflected in decision-making.\\n2. **Employ AI-driven data analysis tools**: Leverage machine learning algorithms to analyze data and identify areas where these frameworks interact with real-world challenges.\\n\\nBy integrating these principles, implementing effective conflict management strategies, and establishing an institutional framework that promotes inclusive decision-making, I believe it's possible to create a society that balances justice, stewardship, and personal fulfillment – while minimizing potential conflicts between them.\"]\n"
     ]
    }
   ],
   "source": [
    "# So where are we?\n",
    "\n",
    "print(competitors)\n",
    "print(answers)\n"
   ]
  },
  {
   "cell_type": "code",
   "execution_count": 17,
   "metadata": {},
   "outputs": [
    {
     "name": "stdout",
     "output_type": "stream",
     "text": [
      "Competitor: gpt-4o-mini\n",
      "\n",
      "Designing a society from scratch is a complex and nuanced task, but prioritizing the right ethical principles can create a foundation for fairness and sustainability. The three key ethical principles I would prioritize are:\n",
      "\n",
      "1. **Equity**: Ensuring that every individual has access to the resources, opportunities, and rights necessary for flourishing. This involves recognizing and addressing systemic inequalities that exist based on race, gender, socio-economic status, and other factors. \n",
      "\n",
      "    - **Implementation**: Policies such as progressive taxation, universal basic services (healthcare, education), and affirmative action can help to level the playing field. \n",
      "\n",
      "    - **Conflict Resolution**: When equity conflicts with efficiency (e.g., resource allocation for the disadvantaged versus a more efficient distribution), I would advocate for a framework of \"just sustainability,\" ensuring that efforts do not undermine long-term environmental health or social fabric while addressing immediate needs.\n",
      "\n",
      "2. **Sustainability**: Making decisions that allow for current generations to meet their needs without compromising the ability of future generations to meet theirs. This encompasses environmental, social, and economic sustainability.\n",
      "\n",
      "    - **Implementation**: Enforcing regulations that promote renewable resources, responsible consumption, and conservation of ecosystems. Integrating indigenous knowledge systems that have a long history of sustainable practices can enrich this approach.\n",
      "\n",
      "    - **Conflict Resolution**: When sustainability clashes with equity (e.g., preservation efforts that displace marginalized communities), I would prioritize inclusive decision-making processes. This could involve community engagement, ensuring that those most affected have a voice in decision-making, and finding compromises that allow for sustainable practices while addressing equity needs.\n",
      "\n",
      "3. **Community Autonomy**: Valuing the ability of individuals and groups to make decisions regarding their own lives and communities. This principle emphasizes the importance of participatory governance and local decision-making.\n",
      "\n",
      "    - **Implementation**: Establishing democratic institutions at various levels that encourage participation, transparency, and accountability. Methods such as consensus-based decision-making and participatory budgeting can empower local communities.\n",
      "\n",
      "    - **Conflict Resolution**: In situations where community autonomy may conflict with sustainability (e.g., practices harmful to the environment that communities wish to maintain), it is crucial to engage in dialogue and education. Facilitation of discussions that allow community members to understand the broader implications of their choices, coupled with alternative solutions that respect local traditions while promoting sustainability, can lead to collaborative resolutions.\n",
      "\n",
      "### Addressing Conflicts Between Principles\n",
      "\n",
      "Addressing conflicts among these principles requires a nuanced, context-sensitive approach. Some strategies include:\n",
      "\n",
      "- **Adaptability**: Creating flexible frameworks that can change according to new information or shifts in societal needs will help manage conflicts between principles.\n",
      "  \n",
      "- **Stakeholder Engagement**: Involving a diverse range of stakeholders (community members, experts, and marginalized voices) in discussions around ethical dilemmas fosters shared understanding and collective problem-solving.\n",
      "\n",
      "- **Trial and Error**: Encouraging pilot programs to test solutions to ethical dilemmas can provide insights and learnings that inform broader policies without committing to a path that may cause harm.\n",
      "\n",
      "Ultimately, the goal of prioritizing these ethics is to weave them together into a balanced system that strives for holistic well-being, recognizing that the interplay between these principles is dynamic and requires ongoing assessment and adjustment.\n",
      "Competitor: gemini-2.0-flash\n",
      "\n",
      "Okay, if I were designing a society from scratch with a focus on fairness and sustainability, I would prioritize these three ethical principles:\n",
      "\n",
      "1.  **Egalitarianism of Opportunity & Basic Needs:** This principle asserts that everyone should have equal access to the resources and opportunities necessary to thrive. This includes access to education, healthcare, basic nutrition, shelter, and meaningful work.  It doesn't guarantee equal outcomes (as people have different talents and choices), but it strives to level the playing field and provide a safety net to prevent extreme destitution.  Furthermore, it includes a right to participate meaningfully in political and economic decision-making, ensuring voices are heard and power is distributed effectively.\n",
      "\n",
      "2.  **Environmental Stewardship & Intergenerational Equity:**  This principle demands responsible management of the Earth's resources and ecosystems for the benefit of current and future generations.  It acknowledges that we are temporary custodians of the planet and have a moral obligation to preserve its biodiversity, ecological integrity, and resource base.  This includes promoting sustainable consumption and production patterns, mitigating climate change, conserving natural resources, and minimizing pollution. It also requires recognizing the intrinsic value of nature, beyond its instrumental value to humans.\n",
      "\n",
      "3.  **Deliberative Democracy & Respect for Autonomy:**  This principle focuses on establishing a political and social system where decisions are made through reasoned discourse and inclusive participation. It emphasizes the importance of informed consent, freedom of expression, and the protection of individual rights and liberties, within the boundaries of the other two principles.  It fosters a culture of critical thinking, empathy, and compromise, where diverse perspectives are valued and considered in the decision-making process. Individuals have significant autonomy, as long as their choices do not infringe on the rights and well-being of others or jeopardize environmental sustainability.\n",
      "\n",
      "**Addressing Potential Conflicts:**\n",
      "\n",
      "These three principles, while interconnected, can potentially conflict.  Here's how I would address those conflicts:\n",
      "\n",
      "*   **Egalitarianism vs. Environmental Stewardship:**  Providing universal access to basic needs (like food, shelter, and transportation) could potentially strain environmental resources and increase carbon emissions.  \n",
      "\n",
      "    *   **Resolution:**  Prioritize *sustainable* solutions to meet basic needs. For example:\n",
      "        *   Invest in renewable energy to power homes and transportation.\n",
      "        *   Promote sustainable agriculture and local food production.\n",
      "        *   Design efficient and durable housing using environmentally friendly materials.\n",
      "        *   Implement policies to reduce consumption and waste through circular economy principles.\n",
      "        *   Educate and incentivize sustainable choices through environmental literacy programs.\n",
      "        *   Employ a progressive taxation system that funds environmental protection and sustainability initiatives. The wealthy will bear a higher burden, incentivizing the development of green technologies to avoid said burden.\n",
      "        *   Rely on technologies such as lab-grown meats and other alternatives to resource-intensive products.\n",
      "\n",
      "*   **Egalitarianism vs. Autonomy:**  Redistributing wealth or resources to achieve greater equality could be seen as infringing on the property rights or economic freedom of individuals. Furthermore, setting standards for sustainability can be seen as impinging on individual freedoms such as types of travel, home size, etc.\n",
      "\n",
      "    *   **Resolution:**\n",
      "        *   Establish clear and transparent rules for wealth redistribution through a progressive taxation system and social welfare programs, with democratic oversight.\n",
      "        *   Implement robust safety nets and social security programs to ensure a minimum standard of living for all.\n",
      "        *   Frame wealth redistribution as a social responsibility, emphasizing the benefits of a more equitable society for all (e.g., reduced crime, improved public health).\n",
      "        *   Focus on *equality of opportunity* as much as possible, enabling people to achieve their full potential through education and training.\n",
      "        *   Use nudges and incentives (rather than outright bans or mandates) to encourage sustainable behaviors.  For example, offering tax breaks for energy-efficient appliances or subsidizing public transportation.\n",
      "        *   Provide clear and compelling information about the environmental impact of different choices, empowering individuals to make informed decisions.\n",
      "        *   Use a carbon tax to offset the cost of sustainable technologies such as wind and solar.\n",
      "        *   Employ democratic discussion and public feedback to formulate fair and balanced policies.\n",
      "\n",
      "*   **Environmental Stewardship vs. Autonomy:**  Regulations to protect the environment (e.g., restricting resource extraction, limiting pollution, or land use regulations) could be perceived as infringing on individual property rights or economic freedoms.\n",
      "\n",
      "    *   **Resolution:**\n",
      "        *   Implement environmental regulations in a transparent and participatory manner, involving stakeholders in the decision-making process.\n",
      "        *   Compensate individuals or businesses for any economic losses incurred due to environmental regulations.\n",
      "        *   Promote technological innovation and green jobs to create new economic opportunities that are aligned with environmental sustainability.\n",
      "        *   Emphasize the long-term benefits of environmental protection for all, including future generations.\n",
      "        *   Adopt a \"polluter pays\" principle, holding those who damage the environment accountable for the costs of remediation.\n",
      "        *   Encourage community-based environmental stewardship initiatives, empowering individuals to take ownership of environmental protection.\n",
      "\n",
      "**Overarching Strategies:**\n",
      "\n",
      "In addition to these specific conflict resolutions, I would implement these overarching strategies:\n",
      "\n",
      "*   **Education & Awareness:**  Promote widespread education on ethical principles, sustainability, and the interconnectedness of social and environmental issues.\n",
      "*   **Democratic Institutions:**  Establish strong and transparent democratic institutions with checks and balances to prevent the abuse of power and ensure accountability.\n",
      "*   **Continuous Evaluation & Adaptation:**  Regularly evaluate the effectiveness of policies and institutions in achieving the desired outcomes and make adjustments as needed.\n",
      "*   **Global Cooperation:**  Recognize that many of these challenges are global in nature and require international cooperation and collaboration.\n",
      "*   **Promote Empathy and Altruism:** Focus on creating a culture of empathy and altruism.\n",
      "*   **Employ an iterative approach:** This means designing the society with the expectation that policies and structures will need to be adapted and refined over time, based on feedback and experience.\n",
      "*   **Employ AI and data analytics** to identify inequalities, inefficiencies, and potential conflicts and use that information to refine policies and interventions.\n",
      "*   **Establish an independent Ethics Council:** To provide guidance on complex ethical dilemmas and to ensure that policies are aligned with the society's core values.\n",
      "\n",
      "By prioritizing these three ethical principles and actively addressing potential conflicts through democratic processes, sustainable solutions, and a commitment to continuous improvement, it is possible to design a society that is both fair and sustainable. This is an ongoing process of balancing competing values and striving towards a more just and equitable future for all.\n",
      "\n",
      "Competitor: llama3.2\n",
      "\n",
      "If I were tasked with designing a society from scratch, I would prioritize the following three ethical principles:\n",
      "\n",
      "1. **Justice**: Ensuring fairness and equal access to resources, opportunities, and rights for all members of society.\n",
      "2. **Stewardship**: Recognizing the interconnectedness of human well-being and the natural environment, and taking steps to protect and preserve the planet for future generations.\n",
      "3. **Personal Fulfillment**: Fostering a culture that allows individuals to reach their full potential, pursue happiness, and contribute meaningfully to the society.\n",
      "\n",
      "To address potential conflicts between these principles, I would employ the following strategies:\n",
      "\n",
      "**Conflict Management**\n",
      "\n",
      "1. **Integrate these principles into the Constitution**: Ensure that justice, stewardship, and personal fulfillment are enshrined in the national charter, serving as a guiding framework for governance and decision-making.\n",
      "2. **Encourage open dialogue and participatory processes**: Establish mechanisms for citizens to engage with policymakers, share their perspectives, and participate in co-creation of laws and policies.\n",
      "3. **Utilize restorative practices**: Implement alternative dispute resolution methods, such as mediation and restorative justice, to resolve conflicts and rebuild relationships when wrongs are committed.\n",
      "4. **Develop a culture of empathy and understanding**: Promote educational programs and initiatives that foster emotional intelligence, cultural competence, and social-emotional learning.\n",
      "\n",
      "**Institutional Framework**\n",
      "\n",
      "1. **Create separate branches for each principle**: Establish distinct governmental departments or agencies focused on each principle:\n",
      " * Justice: responsible for ensuring equal access to rights, resources, and opportunities.\n",
      " * Stewardship: in charge of environmental conservation, sustainability, and resource management.\n",
      " * Personal Fulfillment: oversees education system, social welfare programs, and policies supporting individual well-being.\n",
      "2. **Interconnect departments for harmonization**: Regular meetings and collaboration between department heads ensure alignment and effective cross-fertilization of ideas.\n",
      "3. **Regular review and revision cycles**: Establish independent review bodies to assess the effectiveness of laws, policies, and institutions in promoting justice, stewardship, and personal fulfillment.\n",
      "\n",
      "**Inclusive Decision-Making**\n",
      "\n",
      "1. **Establish representative councils with diverse stakeholder representation**: Comprise councils made up of citizens from various backgrounds, professions, and interests to ensure diverse perspectives are reflected in decision-making.\n",
      "2. **Employ AI-driven data analysis tools**: Leverage machine learning algorithms to analyze data and identify areas where these frameworks interact with real-world challenges.\n",
      "\n",
      "By integrating these principles, implementing effective conflict management strategies, and establishing an institutional framework that promotes inclusive decision-making, I believe it's possible to create a society that balances justice, stewardship, and personal fulfillment – while minimizing potential conflicts between them.\n"
     ]
    }
   ],
   "source": [
    "# It's nice to know how to use \"zip\"\n",
    "for competitor, answer in zip(competitors, answers):\n",
    "    print(f\"Competitor: {competitor}\\n\\n{answer}\")\n"
   ]
  },
  {
   "cell_type": "code",
   "execution_count": 18,
   "metadata": {},
   "outputs": [],
   "source": [
    "# Let's bring this together - note the use of \"enumerate\"\n",
    "\n",
    "together = \"\"\n",
    "for index, answer in enumerate(answers):\n",
    "    together += f\"# Response from competitor {index+1}\\n\\n\"\n",
    "    together += answer + \"\\n\\n\""
   ]
  },
  {
   "cell_type": "code",
   "execution_count": 14,
   "metadata": {},
   "outputs": [
    {
     "name": "stdout",
     "output_type": "stream",
     "text": [
      "# Response from competitor 1\n",
      "\n",
      "Designing a societal model that balances democracy, collectivism, and individual freedom requires careful consideration of several key principles. Here are some foundational elements that would prioritize equitable resource distribution while safeguarding personal autonomy:\n",
      "\n",
      "1. **Participatory Democracy**: Establish mechanisms that encourage active citizen engagement in decision-making processes. This includes local assemblies, participatory budgeting, and e-democracy tools, ensuring that all voices are heard and represented. This principle values collective decision-making and promotes ownership over community outcomes, fostering engagement and responsibility.\n",
      "\n",
      "2. **Universal Basic Needs Guarantee**: Create systems that ensure all individuals have access to essential resources such as healthcare, education, housing, and nutrition. This can be framed as a human right, removing the burdens of economic insecurity and enabling individuals to pursue their own goals and freedoms, thus supporting individual autonomy while emphasizing collective welfare.\n",
      "\n",
      "3. **Decentralized Governance**: Encourage local governance structures that empower communities to make decisions based on their unique contexts. This decentralization promotes accountability, responsive governance, and the ability of individuals to impact their local environments while supporting broader collective goals.\n",
      "\n",
      "4. **Cooperative Economics**: Promote the development of cooperatives and community-owned businesses, which align profit motives with community well-being. Such models encourage collaboration while giving individuals a stake in their economic systems, balancing wealth creation with equitable distribution and enhancing community resilience.\n",
      "\n",
      "5. **Social and Environmental Responsibility**: Embed principles of social justice and environmental sustainability into the societal framework, recognizing that personal freedoms cannot come at the cost of community welfare or environmental degradation. This principle encourages collective stewardship, ensuring that the pursuit of individual freedom does not undermine the rights of others or the integrity of the planet.\n",
      "\n",
      "6. **Education and Empowerment**: Foster an educational system that emphasizes critical thinking, civic engagement, and social responsibility. This empowers individuals to make informed choices and actively participate in shaping their society, reinforcing both personal autonomy and the values of collectivism.\n",
      "\n",
      "7. **Equity in Opportunity**: Implement policies that actively dismantle systemic inequalities, ensuring equal access to opportunities for all individuals. This might include affirmative action, equitable funding for education, and initiatives to address historical injustices, recognizing that true individual freedom requires a level playing field.\n",
      "\n",
      "8. **Civic Accountability Systems**: Create institutions that allow for transparency and accountability within both the governmental and economic sectors. Mechanisms such as independent oversight bodies and public reporting can help ensure that power is wielded responsibly, aligning the actions of leaders with the collective interests of the populace.\n",
      "\n",
      "9. **Cultural Pluralism**: Encourage the recognition and celebration of diverse identities and cultures within the society. This principle fosters individual expression and participation while creating a rich tapestry of communal life, allowing different groups to contribute their perspectives to the collective narrative.\n",
      "\n",
      "10. **Technological Equity**: Ensure equitable access to technology and the digital economy, recognizing that technology can enhance personal freedom but can also exacerbate inequalities. Initiatives focused on digital literacy and infrastructure can empower individuals to participate fully in the modern economy without exacerbating divides.\n",
      "\n",
      "By prioritizing these principles, a societal model can emerge that unites the ideals of democracy, collectivism, and individual freedom in a way that allows for both equitable resource distribution and the protection of personal autonomy. The aim is to create a system where individuals can thrive within a supportive community, encouraging both personal fulfillment and collective well-being.\n",
      "\n",
      "# Response from competitor 2\n",
      "\n",
      "Designing a new societal model that balances democracy, collectivism, and individual freedom requires careful consideration of several key principles. Here are the essential principles I would prioritize:\n",
      "\n",
      "1. **Decentralized Governance**: Implement a decentralized system where decision-making power is distributed among various levels of governance, from local communities to regional councils and national assemblies. This ensures that power is not concentrated in one entity, reducing the risk of authoritarianism and promoting more inclusive decision-making processes.\n",
      "2. **Participatory Economics**: Adopt an economics system that prioritizes social welfare, environmental sustainability, and social justice over profit maximization. This would involve a shift towards a post-scarcity economy, where abundance is guaranteed through advanced technologies and resource sharing, reducing the need for traditional employment and fostering greater economic equality.\n",
      "3. **Universal Basic Income (UBI)**: Implement a UBI as a guarantee of fundamental human rights, ensuring that every individual has access to a minimum standard of living, regardless of their employment status or socioeconomic background. This would provide a safety net, allowing people to pursue their passions and interests without fear of financial instability.\n",
      "4. **Cooperative Ownership**: Promote cooperative ownership structures, where businesses are owned and controlled by their members, who have a vested interest in the organization's success. This allows for more equitable distribution of wealth and decision-making power, as well as greater accountability to stakeholders.\n",
      "5. **Social Learning and Education**: Incorporate social learning, experiential education, and skill-sharing programs to promote individual development, critical thinking, and community engagement. By fostering a culture of continuous learning and growth, individuals can take ownership of their lives and contribute positively to society.\n",
      "6. **Emphasis on Well-being Over Growth**: Prioritize human well-being and happiness over economic growth as the primary goal of societal policies. This would lead to decisions that prioritize environmental sustainability, social justice, and personal fulfillment over short-term gains.\n",
      "7. **Intergenerational Justice**: Implement a system that ensures the long-term sustainability of resources and infrastructure for future generations. This would involve careful planning, investment in renewable energy, and responsible consumption practices to minimize waste and pollution.\n",
      "8. **Inclusive Decision-Making**: Ensure that decision-making processes are inclusive, participatory, and representative of diverse perspectives. This would involve regular town halls, citizen assemblies, and community engagement initiatives to guarantee that the voices of all individuals are heard.\n",
      "9. **Deccentralized Access to Resources**: Implement systems that ensure equal access to resources, such as healthcare, education, and social services, regardless of socioeconomic status or location. This could be achieved through public-private partnerships, crowdfunding, or innovative funding models.\n",
      "10. **Digital Governance and Transparency**: Develop a transparent and participatory digital platform for governance, allowing citizens to engage in discussions, provide feedback, and monitor decision-making processes. This would increase accountability and trust in the system.\n",
      "\n",
      "These principles are designed to strike a balance between individual freedom and collective well-being, ensuring that:\n",
      "\n",
      "1. Personal autonomy is respected through access to resources, education, and self-determination.\n",
      "2. Collective goals, such as social welfare and environmental sustainability, are prioritized while still considering individual needs and preferences.\n",
      "3. Decision-making processes are inclusive, participatory, and representative of diverse perspectives.\n",
      "\n",
      "By incorporating these principles into a new societal model, we can create a more equitable, just, and resilient society that supports the well-being of both individuals and communities.\n",
      "\n",
      "\n"
     ]
    }
   ],
   "source": [
    "print(together)"
   ]
  },
  {
   "cell_type": "code",
   "execution_count": 19,
   "metadata": {},
   "outputs": [],
   "source": [
    "judge = f\"\"\"You are judging a competition between {len(competitors)} competitors.\n",
    "Each model has been given this question:\n",
    "\n",
    "{question}\n",
    "\n",
    "Your job is to evaluate each response for clarity and strength of argument, and rank them in order of best to worst.\n",
    "Respond with JSON, and only JSON, with the following format:\n",
    "{{\"results\": [\"best competitor number\", \"second best competitor number\", \"third best competitor number\", ...]}}\n",
    "\n",
    "Here are the responses from each competitor:\n",
    "\n",
    "{together}\n",
    "\n",
    "Now respond with the JSON with the ranked order of the competitors, nothing else. Do not include markdown formatting or code blocks.\"\"\"\n"
   ]
  },
  {
   "cell_type": "code",
   "execution_count": 20,
   "metadata": {},
   "outputs": [
    {
     "name": "stdout",
     "output_type": "stream",
     "text": [
      "You are judging a competition between 3 competitors.\n",
      "Each model has been given this question:\n",
      "\n",
      "If you were tasked with designing a society from scratch, which three ethical principles would you prioritize to ensure fairness and sustainability, and how would you address potential conflicts between them?\n",
      "\n",
      "Your job is to evaluate each response for clarity and strength of argument, and rank them in order of best to worst.\n",
      "Respond with JSON, and only JSON, with the following format:\n",
      "{\"results\": [\"best competitor number\", \"second best competitor number\", \"third best competitor number\", ...]}\n",
      "\n",
      "Here are the responses from each competitor:\n",
      "\n",
      "# Response from competitor 1\n",
      "\n",
      "Designing a society from scratch is a complex and nuanced task, but prioritizing the right ethical principles can create a foundation for fairness and sustainability. The three key ethical principles I would prioritize are:\n",
      "\n",
      "1. **Equity**: Ensuring that every individual has access to the resources, opportunities, and rights necessary for flourishing. This involves recognizing and addressing systemic inequalities that exist based on race, gender, socio-economic status, and other factors. \n",
      "\n",
      "    - **Implementation**: Policies such as progressive taxation, universal basic services (healthcare, education), and affirmative action can help to level the playing field. \n",
      "\n",
      "    - **Conflict Resolution**: When equity conflicts with efficiency (e.g., resource allocation for the disadvantaged versus a more efficient distribution), I would advocate for a framework of \"just sustainability,\" ensuring that efforts do not undermine long-term environmental health or social fabric while addressing immediate needs.\n",
      "\n",
      "2. **Sustainability**: Making decisions that allow for current generations to meet their needs without compromising the ability of future generations to meet theirs. This encompasses environmental, social, and economic sustainability.\n",
      "\n",
      "    - **Implementation**: Enforcing regulations that promote renewable resources, responsible consumption, and conservation of ecosystems. Integrating indigenous knowledge systems that have a long history of sustainable practices can enrich this approach.\n",
      "\n",
      "    - **Conflict Resolution**: When sustainability clashes with equity (e.g., preservation efforts that displace marginalized communities), I would prioritize inclusive decision-making processes. This could involve community engagement, ensuring that those most affected have a voice in decision-making, and finding compromises that allow for sustainable practices while addressing equity needs.\n",
      "\n",
      "3. **Community Autonomy**: Valuing the ability of individuals and groups to make decisions regarding their own lives and communities. This principle emphasizes the importance of participatory governance and local decision-making.\n",
      "\n",
      "    - **Implementation**: Establishing democratic institutions at various levels that encourage participation, transparency, and accountability. Methods such as consensus-based decision-making and participatory budgeting can empower local communities.\n",
      "\n",
      "    - **Conflict Resolution**: In situations where community autonomy may conflict with sustainability (e.g., practices harmful to the environment that communities wish to maintain), it is crucial to engage in dialogue and education. Facilitation of discussions that allow community members to understand the broader implications of their choices, coupled with alternative solutions that respect local traditions while promoting sustainability, can lead to collaborative resolutions.\n",
      "\n",
      "### Addressing Conflicts Between Principles\n",
      "\n",
      "Addressing conflicts among these principles requires a nuanced, context-sensitive approach. Some strategies include:\n",
      "\n",
      "- **Adaptability**: Creating flexible frameworks that can change according to new information or shifts in societal needs will help manage conflicts between principles.\n",
      "  \n",
      "- **Stakeholder Engagement**: Involving a diverse range of stakeholders (community members, experts, and marginalized voices) in discussions around ethical dilemmas fosters shared understanding and collective problem-solving.\n",
      "\n",
      "- **Trial and Error**: Encouraging pilot programs to test solutions to ethical dilemmas can provide insights and learnings that inform broader policies without committing to a path that may cause harm.\n",
      "\n",
      "Ultimately, the goal of prioritizing these ethics is to weave them together into a balanced system that strives for holistic well-being, recognizing that the interplay between these principles is dynamic and requires ongoing assessment and adjustment.\n",
      "\n",
      "# Response from competitor 2\n",
      "\n",
      "Okay, if I were designing a society from scratch with a focus on fairness and sustainability, I would prioritize these three ethical principles:\n",
      "\n",
      "1.  **Egalitarianism of Opportunity & Basic Needs:** This principle asserts that everyone should have equal access to the resources and opportunities necessary to thrive. This includes access to education, healthcare, basic nutrition, shelter, and meaningful work.  It doesn't guarantee equal outcomes (as people have different talents and choices), but it strives to level the playing field and provide a safety net to prevent extreme destitution.  Furthermore, it includes a right to participate meaningfully in political and economic decision-making, ensuring voices are heard and power is distributed effectively.\n",
      "\n",
      "2.  **Environmental Stewardship & Intergenerational Equity:**  This principle demands responsible management of the Earth's resources and ecosystems for the benefit of current and future generations.  It acknowledges that we are temporary custodians of the planet and have a moral obligation to preserve its biodiversity, ecological integrity, and resource base.  This includes promoting sustainable consumption and production patterns, mitigating climate change, conserving natural resources, and minimizing pollution. It also requires recognizing the intrinsic value of nature, beyond its instrumental value to humans.\n",
      "\n",
      "3.  **Deliberative Democracy & Respect for Autonomy:**  This principle focuses on establishing a political and social system where decisions are made through reasoned discourse and inclusive participation. It emphasizes the importance of informed consent, freedom of expression, and the protection of individual rights and liberties, within the boundaries of the other two principles.  It fosters a culture of critical thinking, empathy, and compromise, where diverse perspectives are valued and considered in the decision-making process. Individuals have significant autonomy, as long as their choices do not infringe on the rights and well-being of others or jeopardize environmental sustainability.\n",
      "\n",
      "**Addressing Potential Conflicts:**\n",
      "\n",
      "These three principles, while interconnected, can potentially conflict.  Here's how I would address those conflicts:\n",
      "\n",
      "*   **Egalitarianism vs. Environmental Stewardship:**  Providing universal access to basic needs (like food, shelter, and transportation) could potentially strain environmental resources and increase carbon emissions.  \n",
      "\n",
      "    *   **Resolution:**  Prioritize *sustainable* solutions to meet basic needs. For example:\n",
      "        *   Invest in renewable energy to power homes and transportation.\n",
      "        *   Promote sustainable agriculture and local food production.\n",
      "        *   Design efficient and durable housing using environmentally friendly materials.\n",
      "        *   Implement policies to reduce consumption and waste through circular economy principles.\n",
      "        *   Educate and incentivize sustainable choices through environmental literacy programs.\n",
      "        *   Employ a progressive taxation system that funds environmental protection and sustainability initiatives. The wealthy will bear a higher burden, incentivizing the development of green technologies to avoid said burden.\n",
      "        *   Rely on technologies such as lab-grown meats and other alternatives to resource-intensive products.\n",
      "\n",
      "*   **Egalitarianism vs. Autonomy:**  Redistributing wealth or resources to achieve greater equality could be seen as infringing on the property rights or economic freedom of individuals. Furthermore, setting standards for sustainability can be seen as impinging on individual freedoms such as types of travel, home size, etc.\n",
      "\n",
      "    *   **Resolution:**\n",
      "        *   Establish clear and transparent rules for wealth redistribution through a progressive taxation system and social welfare programs, with democratic oversight.\n",
      "        *   Implement robust safety nets and social security programs to ensure a minimum standard of living for all.\n",
      "        *   Frame wealth redistribution as a social responsibility, emphasizing the benefits of a more equitable society for all (e.g., reduced crime, improved public health).\n",
      "        *   Focus on *equality of opportunity* as much as possible, enabling people to achieve their full potential through education and training.\n",
      "        *   Use nudges and incentives (rather than outright bans or mandates) to encourage sustainable behaviors.  For example, offering tax breaks for energy-efficient appliances or subsidizing public transportation.\n",
      "        *   Provide clear and compelling information about the environmental impact of different choices, empowering individuals to make informed decisions.\n",
      "        *   Use a carbon tax to offset the cost of sustainable technologies such as wind and solar.\n",
      "        *   Employ democratic discussion and public feedback to formulate fair and balanced policies.\n",
      "\n",
      "*   **Environmental Stewardship vs. Autonomy:**  Regulations to protect the environment (e.g., restricting resource extraction, limiting pollution, or land use regulations) could be perceived as infringing on individual property rights or economic freedoms.\n",
      "\n",
      "    *   **Resolution:**\n",
      "        *   Implement environmental regulations in a transparent and participatory manner, involving stakeholders in the decision-making process.\n",
      "        *   Compensate individuals or businesses for any economic losses incurred due to environmental regulations.\n",
      "        *   Promote technological innovation and green jobs to create new economic opportunities that are aligned with environmental sustainability.\n",
      "        *   Emphasize the long-term benefits of environmental protection for all, including future generations.\n",
      "        *   Adopt a \"polluter pays\" principle, holding those who damage the environment accountable for the costs of remediation.\n",
      "        *   Encourage community-based environmental stewardship initiatives, empowering individuals to take ownership of environmental protection.\n",
      "\n",
      "**Overarching Strategies:**\n",
      "\n",
      "In addition to these specific conflict resolutions, I would implement these overarching strategies:\n",
      "\n",
      "*   **Education & Awareness:**  Promote widespread education on ethical principles, sustainability, and the interconnectedness of social and environmental issues.\n",
      "*   **Democratic Institutions:**  Establish strong and transparent democratic institutions with checks and balances to prevent the abuse of power and ensure accountability.\n",
      "*   **Continuous Evaluation & Adaptation:**  Regularly evaluate the effectiveness of policies and institutions in achieving the desired outcomes and make adjustments as needed.\n",
      "*   **Global Cooperation:**  Recognize that many of these challenges are global in nature and require international cooperation and collaboration.\n",
      "*   **Promote Empathy and Altruism:** Focus on creating a culture of empathy and altruism.\n",
      "*   **Employ an iterative approach:** This means designing the society with the expectation that policies and structures will need to be adapted and refined over time, based on feedback and experience.\n",
      "*   **Employ AI and data analytics** to identify inequalities, inefficiencies, and potential conflicts and use that information to refine policies and interventions.\n",
      "*   **Establish an independent Ethics Council:** To provide guidance on complex ethical dilemmas and to ensure that policies are aligned with the society's core values.\n",
      "\n",
      "By prioritizing these three ethical principles and actively addressing potential conflicts through democratic processes, sustainable solutions, and a commitment to continuous improvement, it is possible to design a society that is both fair and sustainable. This is an ongoing process of balancing competing values and striving towards a more just and equitable future for all.\n",
      "\n",
      "\n",
      "# Response from competitor 3\n",
      "\n",
      "If I were tasked with designing a society from scratch, I would prioritize the following three ethical principles:\n",
      "\n",
      "1. **Justice**: Ensuring fairness and equal access to resources, opportunities, and rights for all members of society.\n",
      "2. **Stewardship**: Recognizing the interconnectedness of human well-being and the natural environment, and taking steps to protect and preserve the planet for future generations.\n",
      "3. **Personal Fulfillment**: Fostering a culture that allows individuals to reach their full potential, pursue happiness, and contribute meaningfully to the society.\n",
      "\n",
      "To address potential conflicts between these principles, I would employ the following strategies:\n",
      "\n",
      "**Conflict Management**\n",
      "\n",
      "1. **Integrate these principles into the Constitution**: Ensure that justice, stewardship, and personal fulfillment are enshrined in the national charter, serving as a guiding framework for governance and decision-making.\n",
      "2. **Encourage open dialogue and participatory processes**: Establish mechanisms for citizens to engage with policymakers, share their perspectives, and participate in co-creation of laws and policies.\n",
      "3. **Utilize restorative practices**: Implement alternative dispute resolution methods, such as mediation and restorative justice, to resolve conflicts and rebuild relationships when wrongs are committed.\n",
      "4. **Develop a culture of empathy and understanding**: Promote educational programs and initiatives that foster emotional intelligence, cultural competence, and social-emotional learning.\n",
      "\n",
      "**Institutional Framework**\n",
      "\n",
      "1. **Create separate branches for each principle**: Establish distinct governmental departments or agencies focused on each principle:\n",
      " * Justice: responsible for ensuring equal access to rights, resources, and opportunities.\n",
      " * Stewardship: in charge of environmental conservation, sustainability, and resource management.\n",
      " * Personal Fulfillment: oversees education system, social welfare programs, and policies supporting individual well-being.\n",
      "2. **Interconnect departments for harmonization**: Regular meetings and collaboration between department heads ensure alignment and effective cross-fertilization of ideas.\n",
      "3. **Regular review and revision cycles**: Establish independent review bodies to assess the effectiveness of laws, policies, and institutions in promoting justice, stewardship, and personal fulfillment.\n",
      "\n",
      "**Inclusive Decision-Making**\n",
      "\n",
      "1. **Establish representative councils with diverse stakeholder representation**: Comprise councils made up of citizens from various backgrounds, professions, and interests to ensure diverse perspectives are reflected in decision-making.\n",
      "2. **Employ AI-driven data analysis tools**: Leverage machine learning algorithms to analyze data and identify areas where these frameworks interact with real-world challenges.\n",
      "\n",
      "By integrating these principles, implementing effective conflict management strategies, and establishing an institutional framework that promotes inclusive decision-making, I believe it's possible to create a society that balances justice, stewardship, and personal fulfillment – while minimizing potential conflicts between them.\n",
      "\n",
      "\n",
      "\n",
      "Now respond with the JSON with the ranked order of the competitors, nothing else. Do not include markdown formatting or code blocks.\n"
     ]
    }
   ],
   "source": [
    "print(judge)"
   ]
  },
  {
   "cell_type": "code",
   "execution_count": 21,
   "metadata": {},
   "outputs": [],
   "source": [
    "judge_messages = [{\"role\": \"user\", \"content\": judge}]"
   ]
  },
  {
   "cell_type": "code",
   "execution_count": 23,
   "metadata": {},
   "outputs": [
    {
     "name": "stdout",
     "output_type": "stream",
     "text": [
      "{\"results\": [\"1\", \"2\", \"3\"]}\n"
     ]
    }
   ],
   "source": [
    "# Judgement time!\n",
    "\n",
    "openai = OpenAI()\n",
    "response = openai.chat.completions.create(\n",
    "    model=\"gpt-4o-mini\",\n",
    "    messages=judge_messages,\n",
    ")\n",
    "results = response.choices[0].message.content\n",
    "print(results)\n"
   ]
  },
  {
   "cell_type": "code",
   "execution_count": 24,
   "metadata": {},
   "outputs": [
    {
     "name": "stdout",
     "output_type": "stream",
     "text": [
      "Rank 1: gpt-4o-mini\n",
      "Rank 2: gemini-2.0-flash\n",
      "Rank 3: llama3.2\n"
     ]
    }
   ],
   "source": [
    "# OK let's turn this into results!\n",
    "\n",
    "results_dict = json.loads(results)\n",
    "ranks = results_dict[\"results\"]\n",
    "for index, result in enumerate(ranks):\n",
    "    competitor = competitors[int(result)-1]\n",
    "    print(f\"Rank {index+1}: {competitor}\")"
   ]
  },
  {
   "cell_type": "markdown",
   "metadata": {},
   "source": [
    "<table style=\"margin: 0; text-align: left; width:100%\">\n",
    "    <tr>\n",
    "        <td>\n",
    "            <h2 style=\"color:#ff7800;\">Exercise</h2>\n",
    "            <span style=\"color:#ff7800;\">Which pattern(s) did this use? Try updating this to add another Agentic design pattern.\n",
    "            </span>\n",
    "        </td>\n",
    "    </tr>\n",
    "</table>"
   ]
  },
  {
   "cell_type": "markdown",
   "metadata": {},
   "source": [
    "<table style=\"margin: 0; text-align: left; width:100%\">\n",
    "    <tr>\n",
    "        <td>\n",
    "            <h2 style=\"color:#00bfff;\">Commercial implications</h2>\n",
    "            <span style=\"color:#00bfff;\">These kinds of patterns - to send a task to multiple models, and evaluate results,\n",
    "            are common where you need to improve the quality of your LLM response. This approach can be universally applied\n",
    "            to business projects where accuracy is critical.\n",
    "            </span>\n",
    "        </td>\n",
    "    </tr>\n",
    "</table>"
   ]
  },
  {
   "cell_type": "markdown",
   "metadata": {},
   "source": []
  }
 ],
 "metadata": {
  "kernelspec": {
   "display_name": ".venv",
   "language": "python",
   "name": "python3"
  },
  "language_info": {
   "codemirror_mode": {
    "name": "ipython",
    "version": 3
   },
   "file_extension": ".py",
   "mimetype": "text/x-python",
   "name": "python",
   "nbconvert_exporter": "python",
   "pygments_lexer": "ipython3",
   "version": "3.13.3"
  }
 },
 "nbformat": 4,
 "nbformat_minor": 2
}
