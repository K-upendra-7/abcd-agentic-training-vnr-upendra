{
 "cells": [
  {
   "cell_type": "markdown",
   "metadata": {},
   "source": [
    "# Agentic AI basics"
   ]
  },
  {
   "cell_type": "code",
   "execution_count": 2,
   "metadata": {},
   "outputs": [],
   "source": [
    "# First let's do an import. If you get an Import Error, double check that your Kernel is correct..\n",
    "\n",
    "from dotenv import load_dotenv"
   ]
  },
  {
   "cell_type": "code",
   "execution_count": 3,
   "metadata": {},
   "outputs": [
    {
     "data": {
      "text/plain": [
       "True"
      ]
     },
     "execution_count": 3,
     "metadata": {},
     "output_type": "execute_result"
    }
   ],
   "source": [
    "# Next it's time to load the API keys into environment variables\n",
    "# If this returns false, make sure env variable is set properly in .env\n",
    "\n",
    "load_dotenv(override=True)"
   ]
  },
  {
   "cell_type": "code",
   "execution_count": 4,
   "metadata": {},
   "outputs": [
    {
     "name": "stdout",
     "output_type": "stream",
     "text": [
      "OpenAI API Key exists and begins sk-proj-\n"
     ]
    }
   ],
   "source": [
    "# Check the key - if you're not using OpenAI, check whichever key you're using! Ollama doesn't need a key.\n",
    "\n",
    "import os\n",
    "openai_api_key = os.getenv('OPENAI_API_KEY')\n",
    "\n",
    "if openai_api_key:\n",
    "    print(f\"OpenAI API Key exists and begins {openai_api_key[:8]}\")\n",
    "else:\n",
    "    print(\"OpenAI API Key not set - please head to the troubleshooting guide in the setup folder\")\n",
    "    \n"
   ]
  },
  {
   "cell_type": "code",
   "execution_count": 5,
   "metadata": {},
   "outputs": [],
   "source": [
    "# And now - the all important import statement\n",
    "# If you get an import error - head over to troubleshooting in the Setup folder\n",
    "# Even for other LLM providers like Gemini, you still use this OpenAI import - see Guide 9 for why\n",
    "\n",
    "from openai import OpenAI"
   ]
  },
  {
   "cell_type": "code",
   "execution_count": 6,
   "metadata": {},
   "outputs": [],
   "source": [
    "# And now we'll create an instance of the OpenAI class\n",
    "# If you're not sure what it means to create an instance of a class - head over to the guides folder (guide 6)!\n",
    "# If you get a NameError - head over to the guides folder (guide 6)to learn about NameErrors - always instantly fixable\n",
    "# If you're not using OpenAI, you just need to slightly modify this - precise instructions are in the AI APIs guide (guide 9)\n",
    "# its basically openai client library for connecting to openai endpoints\n",
    "openai = OpenAI()"
   ]
  },
  {
   "cell_type": "code",
   "execution_count": 7,
   "metadata": {},
   "outputs": [],
   "source": [
    "# Create a list of messages in the familiar OpenAI format\n",
    "\n",
    "messages = [{\"role\": \"user\", \"content\": \"What is 2+2?\"}]"
   ]
  },
  {
   "cell_type": "code",
   "execution_count": 8,
   "metadata": {},
   "outputs": [
    {
     "name": "stdout",
     "output_type": "stream",
     "text": [
      "2 + 2 equals 4.\n"
     ]
    }
   ],
   "source": [
    "# And now call it! Any problems, head to the troubleshooting guide\n",
    "# This uses GPT 4.1 nano, the incredibly cheap model\n",
    "# The APIs guide (guide 9) has exact instructions for using even cheaper or free alternatives to OpenAI\n",
    "# If you get a NameError, head to the guides folder (guide 6) to learn about NameErrors - always instantly fixable\n",
    "\n",
    "response = openai.chat.completions.create(\n",
    "    model=\"gpt-4.1-nano\",\n",
    "    messages=messages\n",
    ")\n",
    "\n",
    "print(response.choices[0].message.content)\n"
   ]
  },
  {
   "cell_type": "code",
   "execution_count": 9,
   "metadata": {},
   "outputs": [],
   "source": [
    "# And now - let's ask for a question:\n",
    "\n",
    "question = \"Please propose a hard, challenging question to assess someone's IQ. Respond only with the question.\"\n",
    "messages = [{\"role\": \"user\", \"content\": question}]\n"
   ]
  },
  {
   "cell_type": "code",
   "execution_count": 10,
   "metadata": {},
   "outputs": [
    {
     "name": "stdout",
     "output_type": "stream",
     "text": [
      "If two trains start from the same point traveling in opposite directions, one at 60 mph and the other at 40 mph, and a bird flies back and forth between them at 100 mph until the trains are 300 miles apart, how far does the bird travel?\n"
     ]
    }
   ],
   "source": [
    "# ask it - this uses GPT 4.1 mini, still cheap but more powerful than nano\n",
    "\n",
    "response = openai.chat.completions.create(\n",
    "    model=\"gpt-4.1-mini\",\n",
    "    messages=messages\n",
    ")\n",
    "\n",
    "question = response.choices[0].message.content\n",
    "\n",
    "print(question)\n"
   ]
  },
  {
   "cell_type": "code",
   "execution_count": 11,
   "metadata": {},
   "outputs": [],
   "source": [
    "# form a new messages list\n",
    "messages = [{\"role\": \"user\", \"content\": question}]\n"
   ]
  },
  {
   "cell_type": "code",
   "execution_count": 12,
   "metadata": {},
   "outputs": [
    {
     "name": "stdout",
     "output_type": "stream",
     "text": [
      "Let's analyze the problem step-by-step.\n",
      "\n",
      "---\n",
      "\n",
      "### Given:\n",
      "- Train A speed = 60 mph\n",
      "- Train B speed = 40 mph\n",
      "- Bird speed = 100 mph\n",
      "- Initial distance between trains = 0 (both start from the same point)\n",
      "- Final distance between trains = 300 miles\n",
      "\n",
      "---\n",
      "\n",
      "### Step 1: Calculate the time it takes for the two trains to be 300 miles apart\n",
      "\n",
      "Since the trains are traveling in opposite directions, their speeds add when considering how fast the distance between them grows.\n",
      "\n",
      "\\[\n",
      "\\text{Relative speed} = 60 + 40 = 100 \\text{ mph}\n",
      "\\]\n",
      "\n",
      "They start at the same point and separate at 100 mph, so the time \\( t \\) for them to be 300 miles apart is:\n",
      "\n",
      "\\[\n",
      "t = \\frac{\\text{Distance}}{\\text{Relative speed}} = \\frac{300}{100} = 3 \\text{ hours}\n",
      "\\]\n",
      "\n",
      "---\n",
      "\n",
      "### Step 2: How far does the bird travel?\n",
      "\n",
      "The bird flies back and forth between the two trains at 100 mph during the entire time \\( t \\) until the trains are 300 miles apart. Since the bird flies continuously at 100 mph for 3 hours:\n",
      "\n",
      "\\[\n",
      "\\text{Distance flown by bird} = \\text{Bird's speed} \\times \\text{Time} = 100 \\times 3 = 300 \\text{ miles}\n",
      "\\]\n",
      "\n",
      "---\n",
      "\n",
      "### **Answer:**\n",
      "\n",
      "The bird travels **300 miles**.\n"
     ]
    }
   ],
   "source": [
    "# Ask it again\n",
    "\n",
    "response = openai.chat.completions.create(\n",
    "    model=\"gpt-4.1-mini\",\n",
    "    messages=messages\n",
    ")\n",
    "\n",
    "answer = response.choices[0].message.content\n",
    "print(answer)\n"
   ]
  },
  {
   "cell_type": "code",
   "execution_count": 13,
   "metadata": {},
   "outputs": [
    {
     "data": {
      "text/markdown": [
       "Let's analyze the problem step-by-step.\n",
       "\n",
       "---\n",
       "\n",
       "### Given:\n",
       "- Train A speed = 60 mph\n",
       "- Train B speed = 40 mph\n",
       "- Bird speed = 100 mph\n",
       "- Initial distance between trains = 0 (both start from the same point)\n",
       "- Final distance between trains = 300 miles\n",
       "\n",
       "---\n",
       "\n",
       "### Step 1: Calculate the time it takes for the two trains to be 300 miles apart\n",
       "\n",
       "Since the trains are traveling in opposite directions, their speeds add when considering how fast the distance between them grows.\n",
       "\n",
       "\\[\n",
       "\\text{Relative speed} = 60 + 40 = 100 \\text{ mph}\n",
       "\\]\n",
       "\n",
       "They start at the same point and separate at 100 mph, so the time \\( t \\) for them to be 300 miles apart is:\n",
       "\n",
       "\\[\n",
       "t = \\frac{\\text{Distance}}{\\text{Relative speed}} = \\frac{300}{100} = 3 \\text{ hours}\n",
       "\\]\n",
       "\n",
       "---\n",
       "\n",
       "### Step 2: How far does the bird travel?\n",
       "\n",
       "The bird flies back and forth between the two trains at 100 mph during the entire time \\( t \\) until the trains are 300 miles apart. Since the bird flies continuously at 100 mph for 3 hours:\n",
       "\n",
       "\\[\n",
       "\\text{Distance flown by bird} = \\text{Bird's speed} \\times \\text{Time} = 100 \\times 3 = 300 \\text{ miles}\n",
       "\\]\n",
       "\n",
       "---\n",
       "\n",
       "### **Answer:**\n",
       "\n",
       "The bird travels **300 miles**."
      ],
      "text/plain": [
       "<IPython.core.display.Markdown object>"
      ]
     },
     "metadata": {},
     "output_type": "display_data"
    }
   ],
   "source": [
    "from IPython.display import Markdown, display\n",
    "\n",
    "display(Markdown(answer))\n",
    "\n"
   ]
  },
  {
   "cell_type": "markdown",
   "metadata": {},
   "source": [
    "<table style=\"margin: 0; text-align: left; width:100%\">\n",
    "    <tr>\n",
    "        <td>\n",
    "            <h2 style=\"color:#ff7800;\">Exercise</h2>\n",
    "            <span style=\"color:#ff7800;\">Now try this commercial application:<br/>\n",
    "            First ask the LLM to pick a business area that might be worth exploring for an Agentic AI opportunity.<br/>\n",
    "            Then ask the LLM to present a pain-point in that industry - something challenging that might be ripe for an Agentic solution.<br/>\n",
    "            Finally have 3 third LLM call propose the Agentic AI solution. <br/>\n",
    "            We will cover this at up-coming labs, so don't worry if you're unsure.. just give it a try!\n",
    "            </span>\n",
    "        </td>\n",
    "    </tr>\n",
    "</table>"
   ]
  },
  {
   "cell_type": "code",
   "execution_count": 15,
   "metadata": {},
   "outputs": [
    {
     "name": "stdout",
     "output_type": "stream",
     "text": [
      "[{'role': 'user', 'content': 'pick a business area that migth be worth exploring for an agentic ai opportunity.'}]\n"
     ]
    },
    {
     "data": {
      "text/markdown": [
       "One promising business area worth exploring for an agentic AI opportunity is **personalized healthcare management**. \n",
       "\n",
       "### Opportunity Analysis\n",
       "\n",
       "1. **Customization of Treatment Plans**: An agentic AI could analyze vast amounts of patient data, including genetics, lifestyle, and environmental factors, to create personalized treatment plans. This could be particularly valuable in managing chronic diseases where individualized approaches can lead to better outcomes.\n",
       "\n",
       "2. **Patient Monitoring and Feedback**: An AI system could take command of monitoring devices (like wearables) to track patient health in real-time, adjust recommendations, and alert healthcare professionals in case of emergencies, creating a proactive healthcare environment.\n",
       "\n",
       "3. **Virtual Health Assistants**: AI-driven virtual assistants can help patients manage their appointments, medication schedules, and follow-up care, reducing the administrative burden on healthcare professionals and improving patient adherence to treatment plans.\n",
       "\n",
       "4. **Data-Driven Research and Development**: An agentic AI could facilitate drug discovery by analyzing existing research, patient responses, and biological data to identify new therapeutic approaches more efficiently than traditional methods.\n",
       "\n",
       "5. **Mental Health Support**: AI systems can provide real-time, on-demand mental health support through apps that can understand users’ emotional states and offer interventions, resources, or connect them with professionals.\n",
       "\n",
       "6. **Insurance Optimization**: An AI can predict health trends and patient outcomes to help insurance companies tailor their offerings, pricing, and coverage options, enhancing patient access and reducing costs.\n",
       "\n",
       "### Advantages\n",
       "\n",
       "- **Scalability**: The demand for healthcare solutions is continuously growing. An AI-driven platform can be scaled and adapted for various markets.\n",
       "- **Cost Reduction**: By streamlining processes and improving outcomes, agentic AI has the potential to lower healthcare costs significantly.\n",
       "- **Enhanced Patient Experience**: Personalized services lead to better patient engagement and satisfaction.\n",
       "- **Regulatory Compliance**: AI can help navigate complex healthcare regulations, ensuring compliance while optimizing processes.\n",
       "\n",
       "### Challenges to Consider\n",
       "\n",
       "- **Data Privacy and Security**: Handling sensitive health information requires stringent adherence to data protection regulations like HIPAA (in the U.S.) and GDPR (in Europe).\n",
       "- **Integration with Existing Systems**: Many healthcare systems have legacy technologies that may not easily integrate with new AI solutions.\n",
       "- **Ethical Considerations**: Ensuring fairness, accountability, and transparency in AI decision-making processes to avoid biases.\n",
       "\n",
       "Overall, personalized healthcare management presents a significant opportunity for agentic AI applications, combining technological advancement with pressing needs in the healthcare sector."
      ],
      "text/plain": [
       "<IPython.core.display.Markdown object>"
      ]
     },
     "metadata": {},
     "output_type": "display_data"
    }
   ],
   "source": [
    "# First create the messages:\n",
    "\n",
    "messages = [{\"role\": \"user\", \"content\": \"pick a business area that migth be worth exploring for an agentic ai opportunity.\"}]\n",
    "\n",
    "# Then make the first call:\n",
    "\n",
    "response = openai.chat.completions.create(\n",
    "    model=\"gpt-4o-mini\",\n",
    "    messages=messages\n",
    ")\n",
    "\n",
    "# Then read the business idea:\n",
    "\n",
    "business_idea = response.choices[0].message.content\n",
    "\n",
    "# And repeat! In the next message, include the business idea within the message\n",
    "\n",
    "from IPython.display import Markdown, display\n",
    "\n",
    "print(messages)\n",
    "display(Markdown(business_idea))"
   ]
  },
  {
   "cell_type": "markdown",
   "metadata": {},
   "source": []
  }
 ],
 "metadata": {
  "kernelspec": {
   "display_name": ".venv",
   "language": "python",
   "name": "python3"
  },
  "language_info": {
   "codemirror_mode": {
    "name": "ipython",
    "version": 3
   },
   "file_extension": ".py",
   "mimetype": "text/x-python",
   "name": "python",
   "nbconvert_exporter": "python",
   "pygments_lexer": "ipython3",
   "version": "3.13.3"
  }
 },
 "nbformat": 4,
 "nbformat_minor": 2
}
